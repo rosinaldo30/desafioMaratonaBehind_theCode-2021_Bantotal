{
 "cells": [
  {
   "cell_type": "markdown",
   "metadata": {
    "id": "Ueu6mB8PLJcP"
   },
   "source": [
    "# Introdução \n",
    "\n",
    "Este é um projeto desenvolvido para a (Maratona Behind the Code 2021), em que, consiste em resolver um problema de classificação de usuários do Banco Bantotal (Bantotal é uma instituição bancaria lider na América Latina, que resolve as operações de missão crítica das Instituições Financeiras de forma simples e precisa). O principal Objetivo desse projeto é criar um modelo de Aprendizado de Máquina capaz de realiza uma análise de risco para predizer se um determinado empréstimo solicitado por um cliente, deve ser aprovado ou não.  "
   ]
  },
  {
   "cell_type": "markdown",
   "metadata": {},
   "source": [
    "### Autor do Projeto: Rosinaldo Alves da Silva\n",
    "#### Não é permitido Plágio - Crie seu Próprio Modelo"
   ]
  },
  {
   "cell_type": "markdown",
   "metadata": {
    "id": "qHCMjn7MLJch"
   },
   "source": [
    "## Importação dos dados"
   ]
  },
  {
   "cell_type": "code",
   "execution_count": 1,
   "metadata": {
    "id": "2TrxaEFjLJcl"
   },
   "outputs": [],
   "source": [
    "import pandas as pd\n",
    "df = pd.read_csv('dados/ACCOUNTS.csv')"
   ]
  },
  {
   "cell_type": "code",
   "execution_count": 2,
   "metadata": {
    "colab": {
     "base_uri": "https://localhost:8080/",
     "height": 206
    },
    "id": "03uylOnuLJcq",
    "outputId": "3720a6be-b427-4d65-a3ac-851b03e5f79e"
   },
   "outputs": [
    {
     "data": {
      "text/html": [
       "<div>\n",
       "<style scoped>\n",
       "    .dataframe tbody tr th:only-of-type {\n",
       "        vertical-align: middle;\n",
       "    }\n",
       "\n",
       "    .dataframe tbody tr th {\n",
       "        vertical-align: top;\n",
       "    }\n",
       "\n",
       "    .dataframe thead th {\n",
       "        text-align: right;\n",
       "    }\n",
       "</style>\n",
       "<table border=\"1\" class=\"dataframe\">\n",
       "  <thead>\n",
       "    <tr style=\"text-align: right;\">\n",
       "      <th></th>\n",
       "      <th>ID</th>\n",
       "      <th>CHECKING_BALANCE</th>\n",
       "      <th>CREDIT_HISTORY</th>\n",
       "      <th>EXISTING_SAVINGS</th>\n",
       "      <th>EXISTING_CREDITS_COUNT</th>\n",
       "    </tr>\n",
       "  </thead>\n",
       "  <tbody>\n",
       "    <tr>\n",
       "      <th>0</th>\n",
       "      <td>291655</td>\n",
       "      <td>-566.53</td>\n",
       "      <td>ALL_CREDITS_PAID_BACK</td>\n",
       "      <td>36.42</td>\n",
       "      <td>1.0</td>\n",
       "    </tr>\n",
       "    <tr>\n",
       "      <th>1</th>\n",
       "      <td>657079</td>\n",
       "      <td>-1673.16</td>\n",
       "      <td>CREDITS_PAID_TO_DATE</td>\n",
       "      <td>22.9</td>\n",
       "      <td>1.0</td>\n",
       "    </tr>\n",
       "    <tr>\n",
       "      <th>2</th>\n",
       "      <td>256050</td>\n",
       "      <td>NO_CHECKING</td>\n",
       "      <td>CREDITS_PAID_TO_DATE</td>\n",
       "      <td>450.35</td>\n",
       "      <td>2.0</td>\n",
       "    </tr>\n",
       "    <tr>\n",
       "      <th>3</th>\n",
       "      <td>1039151</td>\n",
       "      <td>-1471.03</td>\n",
       "      <td>PRIOR_PAYMENTS_DELAYED</td>\n",
       "      <td>805.71</td>\n",
       "      <td>2.0</td>\n",
       "    </tr>\n",
       "    <tr>\n",
       "      <th>4</th>\n",
       "      <td>1002660</td>\n",
       "      <td>NO_CHECKING</td>\n",
       "      <td>CREDITS_PAID_TO_DATE</td>\n",
       "      <td>295.03</td>\n",
       "      <td>1.0</td>\n",
       "    </tr>\n",
       "  </tbody>\n",
       "</table>\n",
       "</div>"
      ],
      "text/plain": [
       "        ID CHECKING_BALANCE          CREDIT_HISTORY EXISTING_SAVINGS  \\\n",
       "0   291655          -566.53   ALL_CREDITS_PAID_BACK            36.42   \n",
       "1   657079         -1673.16    CREDITS_PAID_TO_DATE             22.9   \n",
       "2   256050      NO_CHECKING    CREDITS_PAID_TO_DATE           450.35   \n",
       "3  1039151         -1471.03  PRIOR_PAYMENTS_DELAYED           805.71   \n",
       "4  1002660      NO_CHECKING    CREDITS_PAID_TO_DATE           295.03   \n",
       "\n",
       "   EXISTING_CREDITS_COUNT  \n",
       "0                     1.0  \n",
       "1                     1.0  \n",
       "2                     2.0  \n",
       "3                     2.0  \n",
       "4                     1.0  "
      ]
     },
     "execution_count": 2,
     "metadata": {},
     "output_type": "execute_result"
    }
   ],
   "source": [
    "df.head()"
   ]
  },
  {
   "cell_type": "code",
   "execution_count": null,
   "metadata": {
    "id": "5S1SQ-8KLJcz",
    "outputId": "629130c7-d7ba-4f69-f2da-f6dc24870b38"
   },
   "outputs": [
    {
     "data": {
      "text/plain": [
       "ID                        2477\n",
       "CHECKING_BALANCE          2467\n",
       "CREDIT_HISTORY            2462\n",
       "EXISTING_SAVINGS          2467\n",
       "EXISTING_CREDITS_COUNT    2463\n",
       "dtype: int64"
      ]
     },
     "execution_count": 3,
     "metadata": {},
     "output_type": "execute_result"
    }
   ],
   "source": [
    "# Mostra o numero de linhas não nulas para cada coluna\n",
    "df.count()"
   ]
  },
  {
   "cell_type": "markdown",
   "metadata": {
    "id": "la9W2PARLJc1"
   },
   "source": [
    "### Para a tabela 2"
   ]
  },
  {
   "cell_type": "code",
   "execution_count": 3,
   "metadata": {
    "id": "E_iLk98GLJc3"
   },
   "outputs": [],
   "source": [
    "df1 = pd.read_csv('dados/DEMOGRAPHICS.csv')"
   ]
  },
  {
   "cell_type": "code",
   "execution_count": 4,
   "metadata": {
    "colab": {
     "base_uri": "https://localhost:8080/",
     "height": 270
    },
    "id": "-qaNX7WcLJc5",
    "outputId": "825bc678-00d1-483a-8dc0-f8eb4918c6a4"
   },
   "outputs": [
    {
     "data": {
      "text/html": [
       "<div>\n",
       "<style scoped>\n",
       "    .dataframe tbody tr th:only-of-type {\n",
       "        vertical-align: middle;\n",
       "    }\n",
       "\n",
       "    .dataframe tbody tr th {\n",
       "        vertical-align: top;\n",
       "    }\n",
       "\n",
       "    .dataframe thead th {\n",
       "        text-align: right;\n",
       "    }\n",
       "</style>\n",
       "<table border=\"1\" class=\"dataframe\">\n",
       "  <thead>\n",
       "    <tr style=\"text-align: right;\">\n",
       "      <th></th>\n",
       "      <th>ID</th>\n",
       "      <th>SEX</th>\n",
       "      <th>AGE</th>\n",
       "      <th>JOB_TYPE</th>\n",
       "      <th>DEPENDENTS</th>\n",
       "      <th>TELEPHONE</th>\n",
       "      <th>FOREIGN_WORKER</th>\n",
       "      <th>EMPLOYMENT_DURATION</th>\n",
       "      <th>PROPERTY</th>\n",
       "      <th>HOUSING</th>\n",
       "      <th>CURRENT_RESIDENCE_DURATION</th>\n",
       "    </tr>\n",
       "  </thead>\n",
       "  <tbody>\n",
       "    <tr>\n",
       "      <th>0</th>\n",
       "      <td>24252</td>\n",
       "      <td>M</td>\n",
       "      <td>47.0</td>\n",
       "      <td>3.0</td>\n",
       "      <td>1.0</td>\n",
       "      <td>0.0</td>\n",
       "      <td>1.0</td>\n",
       "      <td>14.0</td>\n",
       "      <td>SAVINGS_INSURANCE</td>\n",
       "      <td>OWN</td>\n",
       "      <td>3.0</td>\n",
       "    </tr>\n",
       "    <tr>\n",
       "      <th>1</th>\n",
       "      <td>1002018</td>\n",
       "      <td>M</td>\n",
       "      <td>19.0</td>\n",
       "      <td>3.0</td>\n",
       "      <td>1.0</td>\n",
       "      <td>0.0</td>\n",
       "      <td>1.0</td>\n",
       "      <td>0.0</td>\n",
       "      <td>SAVINGS_INSURANCE</td>\n",
       "      <td>RENT</td>\n",
       "      <td>2.0</td>\n",
       "    </tr>\n",
       "    <tr>\n",
       "      <th>2</th>\n",
       "      <td>1240455</td>\n",
       "      <td>F</td>\n",
       "      <td>50.0</td>\n",
       "      <td>2.0</td>\n",
       "      <td>1.0</td>\n",
       "      <td>1.0</td>\n",
       "      <td>1.0</td>\n",
       "      <td>7.0</td>\n",
       "      <td>UNKNOWN</td>\n",
       "      <td>OWN</td>\n",
       "      <td>3.0</td>\n",
       "    </tr>\n",
       "    <tr>\n",
       "      <th>3</th>\n",
       "      <td>107799</td>\n",
       "      <td>M</td>\n",
       "      <td>35.0</td>\n",
       "      <td>3.0</td>\n",
       "      <td>1.0</td>\n",
       "      <td>0.0</td>\n",
       "      <td>1.0</td>\n",
       "      <td>0.0</td>\n",
       "      <td>REAL_ESTATE</td>\n",
       "      <td>OWN</td>\n",
       "      <td>2.0</td>\n",
       "    </tr>\n",
       "    <tr>\n",
       "      <th>4</th>\n",
       "      <td>184883</td>\n",
       "      <td>M</td>\n",
       "      <td>40.0</td>\n",
       "      <td>1.0</td>\n",
       "      <td>1.0</td>\n",
       "      <td>0.0</td>\n",
       "      <td>1.0</td>\n",
       "      <td>9.0</td>\n",
       "      <td>CAR_OTHER</td>\n",
       "      <td>OWN</td>\n",
       "      <td>4.0</td>\n",
       "    </tr>\n",
       "  </tbody>\n",
       "</table>\n",
       "</div>"
      ],
      "text/plain": [
       "        ID SEX   AGE  JOB_TYPE  DEPENDENTS  TELEPHONE  FOREIGN_WORKER  \\\n",
       "0    24252   M  47.0       3.0         1.0        0.0             1.0   \n",
       "1  1002018   M  19.0       3.0         1.0        0.0             1.0   \n",
       "2  1240455   F  50.0       2.0         1.0        1.0             1.0   \n",
       "3   107799   M  35.0       3.0         1.0        0.0             1.0   \n",
       "4   184883   M  40.0       1.0         1.0        0.0             1.0   \n",
       "\n",
       "   EMPLOYMENT_DURATION           PROPERTY HOUSING  CURRENT_RESIDENCE_DURATION  \n",
       "0                 14.0  SAVINGS_INSURANCE     OWN                         3.0  \n",
       "1                  0.0  SAVINGS_INSURANCE    RENT                         2.0  \n",
       "2                  7.0            UNKNOWN     OWN                         3.0  \n",
       "3                  0.0        REAL_ESTATE     OWN                         2.0  \n",
       "4                  9.0          CAR_OTHER     OWN                         4.0  "
      ]
     },
     "execution_count": 4,
     "metadata": {},
     "output_type": "execute_result"
    }
   ],
   "source": [
    "df1.head()"
   ]
  },
  {
   "cell_type": "code",
   "execution_count": 5,
   "metadata": {
    "colab": {
     "base_uri": "https://localhost:8080/"
    },
    "id": "s8vISjF1LJc8",
    "outputId": "00f0b312-93a7-4b2a-ab9c-67b40f7b5646"
   },
   "outputs": [
    {
     "data": {
      "text/plain": [
       "ID                            3936\n",
       "SEX                           3920\n",
       "AGE                           3918\n",
       "JOB_TYPE                      3910\n",
       "DEPENDENTS                    3915\n",
       "TELEPHONE                     3915\n",
       "FOREIGN_WORKER                3909\n",
       "EMPLOYMENT_DURATION           3923\n",
       "PROPERTY                      3918\n",
       "HOUSING                       3912\n",
       "CURRENT_RESIDENCE_DURATION    3917\n",
       "dtype: int64"
      ]
     },
     "execution_count": 5,
     "metadata": {},
     "output_type": "execute_result"
    }
   ],
   "source": [
    "# Mostra o numero de linhas não nulas para cada coluna\n",
    "df1.count()"
   ]
  },
  {
   "cell_type": "markdown",
   "metadata": {
    "id": "n5CTAMelLJdA"
   },
   "source": [
    "### Para a tabela 3"
   ]
  },
  {
   "cell_type": "code",
   "execution_count": 5,
   "metadata": {
    "id": "8kHvez4wLJdE"
   },
   "outputs": [],
   "source": [
    "df2 = pd.read_csv('dados/LOANS.csv')"
   ]
  },
  {
   "cell_type": "code",
   "execution_count": 6,
   "metadata": {
    "colab": {
     "base_uri": "https://localhost:8080/",
     "height": 270
    },
    "id": "e3a7Blf9LJdF",
    "outputId": "cd057b51-4138-4abc-ba09-5714f70a1b08"
   },
   "outputs": [
    {
     "data": {
      "text/html": [
       "<div>\n",
       "<style scoped>\n",
       "    .dataframe tbody tr th:only-of-type {\n",
       "        vertical-align: middle;\n",
       "    }\n",
       "\n",
       "    .dataframe tbody tr th {\n",
       "        vertical-align: top;\n",
       "    }\n",
       "\n",
       "    .dataframe thead th {\n",
       "        text-align: right;\n",
       "    }\n",
       "</style>\n",
       "<table border=\"1\" class=\"dataframe\">\n",
       "  <thead>\n",
       "    <tr style=\"text-align: right;\">\n",
       "      <th></th>\n",
       "      <th>ID</th>\n",
       "      <th>PAYMENT_TERM</th>\n",
       "      <th>INSTALLMENT_PLANS</th>\n",
       "      <th>INSTALLMENT_PERCENT</th>\n",
       "      <th>LOAN_PURPOSE</th>\n",
       "      <th>LOAN_AMOUNT</th>\n",
       "      <th>OTHERS_ON_LOAN</th>\n",
       "      <th>ALLOW</th>\n",
       "    </tr>\n",
       "  </thead>\n",
       "  <tbody>\n",
       "    <tr>\n",
       "      <th>0</th>\n",
       "      <td>610339</td>\n",
       "      <td>713.0</td>\n",
       "      <td>STORES</td>\n",
       "      <td>3.0</td>\n",
       "      <td>CAR_USED</td>\n",
       "      <td>3103.0</td>\n",
       "      <td>NONE</td>\n",
       "      <td>1</td>\n",
       "    </tr>\n",
       "    <tr>\n",
       "      <th>1</th>\n",
       "      <td>109167</td>\n",
       "      <td>341.0</td>\n",
       "      <td>STORES</td>\n",
       "      <td>1.0</td>\n",
       "      <td>CAR_NEW</td>\n",
       "      <td>716.0</td>\n",
       "      <td>NONE</td>\n",
       "      <td>1</td>\n",
       "    </tr>\n",
       "    <tr>\n",
       "      <th>2</th>\n",
       "      <td>823322</td>\n",
       "      <td>868.0</td>\n",
       "      <td>NONE</td>\n",
       "      <td>4.0</td>\n",
       "      <td>APPLIANCES</td>\n",
       "      <td>4333.0</td>\n",
       "      <td>NONE</td>\n",
       "      <td>1</td>\n",
       "    </tr>\n",
       "    <tr>\n",
       "      <th>3</th>\n",
       "      <td>322224</td>\n",
       "      <td>310.0</td>\n",
       "      <td>STORES</td>\n",
       "      <td>2.0</td>\n",
       "      <td>FURNITURE</td>\n",
       "      <td>250.0</td>\n",
       "      <td>NONE</td>\n",
       "      <td>1</td>\n",
       "    </tr>\n",
       "    <tr>\n",
       "      <th>4</th>\n",
       "      <td>912693</td>\n",
       "      <td>620.0</td>\n",
       "      <td>NONE</td>\n",
       "      <td>2.0</td>\n",
       "      <td>CAR_USED</td>\n",
       "      <td>2454.0</td>\n",
       "      <td>NONE</td>\n",
       "      <td>0</td>\n",
       "    </tr>\n",
       "  </tbody>\n",
       "</table>\n",
       "</div>"
      ],
      "text/plain": [
       "       ID  PAYMENT_TERM INSTALLMENT_PLANS  INSTALLMENT_PERCENT LOAN_PURPOSE  \\\n",
       "0  610339         713.0            STORES                  3.0     CAR_USED   \n",
       "1  109167         341.0            STORES                  1.0      CAR_NEW   \n",
       "2  823322         868.0              NONE                  4.0   APPLIANCES   \n",
       "3  322224         310.0            STORES                  2.0    FURNITURE   \n",
       "4  912693         620.0              NONE                  2.0     CAR_USED   \n",
       "\n",
       "   LOAN_AMOUNT OTHERS_ON_LOAN  ALLOW  \n",
       "0       3103.0           NONE      1  \n",
       "1        716.0           NONE      1  \n",
       "2       4333.0           NONE      1  \n",
       "3        250.0           NONE      1  \n",
       "4       2454.0           NONE      0  "
      ]
     },
     "execution_count": 6,
     "metadata": {},
     "output_type": "execute_result"
    }
   ],
   "source": [
    "df2.head()"
   ]
  },
  {
   "cell_type": "code",
   "execution_count": 8,
   "metadata": {
    "colab": {
     "base_uri": "https://localhost:8080/"
    },
    "id": "oj2kcga0LJdH",
    "outputId": "b131dcde-5303-4e12-efae-f39dc0c400c6"
   },
   "outputs": [
    {
     "data": {
      "text/plain": [
       "ID                     3999\n",
       "PAYMENT_TERM           3975\n",
       "INSTALLMENT_PLANS      3978\n",
       "INSTALLMENT_PERCENT    3974\n",
       "LOAN_PURPOSE           3979\n",
       "LOAN_AMOUNT            3981\n",
       "OTHERS_ON_LOAN         3977\n",
       "ALLOW                  3999\n",
       "dtype: int64"
      ]
     },
     "execution_count": 8,
     "metadata": {},
     "output_type": "execute_result"
    }
   ],
   "source": [
    "# Mostra o numero de linhas não nulas para cada coluna\n",
    "df2.count()"
   ]
  },
  {
   "cell_type": "markdown",
   "metadata": {
    "id": "WdxcT9qGLJdJ"
   },
   "source": [
    "## Análise e Tratamento dos dados"
   ]
  },
  {
   "cell_type": "markdown",
   "metadata": {
    "id": "qicW5G1ILJdL"
   },
   "source": [
    "### Informações sobre os dados"
   ]
  },
  {
   "cell_type": "markdown",
   "metadata": {
    "id": "lll36ufPLJdM"
   },
   "source": [
    "[\n",
    "  \"ID\", # Número de identificação do cliente\n",
    "  \"CHECKING_BALANCE\", # Saldo em conta corrente do cliente\n",
    "  \"PAYMENT_TERM\", # Número de dias que o cliente tem para pagar o empréstimo\n",
    "  \"CREDIT_HISTORY\", # Como está a situação de crédito passada do cliente\n",
    "  \"LOAN_PURPOSE\", # Motivação do empréstimo\n",
    "  \"LOAN_AMOUNT\", # Valor do empréstimo\n",
    "  \"EXISTING_SAVINGS\", # Saldo de conta poupança\n",
    "  \"EMPLOYMENT_DURATION\", # Quantos anos o cliente está no último emprego\n",
    "  \"INSTALLMENT_PERCENT\", # Em quantas parcelas o empréstimo deve ser pago\n",
    "  \"SEX\", # Sexo\n",
    "  \"OTHERS_ON_LOAN\", # Se existe um fiador ou outro aplicante para o empréstimo\n",
    "  \"CURRENT_RESIDENCE_DURATION\", # Anos em que o cliente está vivendo na última casa\n",
    "  \"PROPERTY\", # Se o cliente possui alguma propriedade em nome\n",
    "  \"AGE\", # Idade\n",
    "  \"INSTALLMENT_PLANS\", # Plano de financiamento, podendo ser do banco, externo, ou nenhum\n",
    "  \"HOUSING\", # Tem casa própria ou não\n",
    "  \"EXISTING_CREDITS_COUNT\", # Número de empréstimos que o cliente já tem\n",
    "  \"JOB_TYPE\", # Tipo de emprego: 0 - desempregado, 1 - Não qualificado, 2 - Autônomo, 3 - Qualificado\n",
    "  \"DEPENDENTS\", # Número de pessoas com acesso à conta\n",
    "  \"TELEPHONE\", # Se o cliente tem telefone cadastrado ou não\n",
    "  \"FOREIGN_WORKER\" # Se o cliente trabalha num país externo ao do banco ou não\n",
    "]"
   ]
  },
  {
   "cell_type": "markdown",
   "metadata": {
    "id": "8hTsY3tyLJd5"
   },
   "source": [
    "E como saída um valor binário que representa se o empréstimo deve ser permitido ou não (0 para não, 1 para sim).\n",
    "\n",
    "> Atenção: os dados disponibilizados neste desafio são fictícios, qualquer correlação com a realidade é mera coincidência."
   ]
  },
  {
   "cell_type": "markdown",
   "metadata": {
    "id": "h6fn2D4HLJef"
   },
   "source": [
    "### Eliminando as colunas indesejadas para cada tabela"
   ]
  },
  {
   "cell_type": "code",
   "execution_count": 13,
   "metadata": {
    "id": "eig68J89LJeh"
   },
   "outputs": [],
   "source": [
    "# remover a coluna id da tabela DEMOGRAPHICS\n",
    "novo_df1 = df1.drop('ID', axis = 1)"
   ]
  },
  {
   "cell_type": "code",
   "execution_count": 14,
   "metadata": {
    "colab": {
     "base_uri": "https://localhost:8080/"
    },
    "id": "UROqPhyXLJej",
    "outputId": "55d44153-e8db-45df-cfac-246f65798d41"
   },
   "outputs": [
    {
     "data": {
      "text/plain": [
       "SEX                           3920\n",
       "AGE                           3918\n",
       "JOB_TYPE                      3910\n",
       "DEPENDENTS                    3915\n",
       "TELEPHONE                     3915\n",
       "FOREIGN_WORKER                3909\n",
       "EMPLOYMENT_DURATION           3923\n",
       "PROPERTY                      3918\n",
       "HOUSING                       3912\n",
       "CURRENT_RESIDENCE_DURATION    3917\n",
       "dtype: int64"
      ]
     },
     "execution_count": 14,
     "metadata": {},
     "output_type": "execute_result"
    }
   ],
   "source": [
    "novo_df1.count()"
   ]
  },
  {
   "cell_type": "code",
   "execution_count": 15,
   "metadata": {
    "id": "m6e8vubZLJer"
   },
   "outputs": [],
   "source": [
    "# remover a coluna id da tabela LOANS\n",
    "novo_df2 = df2.drop('ID', axis = 1)"
   ]
  },
  {
   "cell_type": "code",
   "execution_count": 16,
   "metadata": {
    "colab": {
     "base_uri": "https://localhost:8080/"
    },
    "id": "-mtHDK5wLJet",
    "outputId": "8952afc9-838b-43fd-8142-f6a0b76564e7"
   },
   "outputs": [
    {
     "data": {
      "text/plain": [
       "PAYMENT_TERM           3975\n",
       "INSTALLMENT_PLANS      3978\n",
       "INSTALLMENT_PERCENT    3974\n",
       "LOAN_PURPOSE           3979\n",
       "LOAN_AMOUNT            3981\n",
       "OTHERS_ON_LOAN         3977\n",
       "ALLOW                  3999\n",
       "dtype: int64"
      ]
     },
     "execution_count": 16,
     "metadata": {},
     "output_type": "execute_result"
    }
   ],
   "source": [
    "novo_df2.count()"
   ]
  },
  {
   "cell_type": "markdown",
   "metadata": {
    "id": "fLROHFF1LJeu"
   },
   "source": [
    "### Juntando as tabelas "
   ]
  },
  {
   "cell_type": "code",
   "execution_count": 17,
   "metadata": {
    "id": "Lci6F5GhLJex"
   },
   "outputs": [],
   "source": [
    "# Juntando ao longo das colunas\n",
    "uniao_tabelas = pd.concat([df, novo_df1, novo_df2], axis = 1) "
   ]
  },
  {
   "cell_type": "code",
   "execution_count": 18,
   "metadata": {
    "colab": {
     "base_uri": "https://localhost:8080/",
     "height": 300
    },
    "id": "bWAD8v_rLJe0",
    "outputId": "a5f32127-ab7b-4b45-9e45-ada2fd5c1624"
   },
   "outputs": [
    {
     "data": {
      "text/html": [
       "\n",
       "  <div id=\"df-da19ae85-00e6-4f6e-b252-fb89ade2434a\">\n",
       "    <div class=\"colab-df-container\">\n",
       "      <div>\n",
       "<style scoped>\n",
       "    .dataframe tbody tr th:only-of-type {\n",
       "        vertical-align: middle;\n",
       "    }\n",
       "\n",
       "    .dataframe tbody tr th {\n",
       "        vertical-align: top;\n",
       "    }\n",
       "\n",
       "    .dataframe thead th {\n",
       "        text-align: right;\n",
       "    }\n",
       "</style>\n",
       "<table border=\"1\" class=\"dataframe\">\n",
       "  <thead>\n",
       "    <tr style=\"text-align: right;\">\n",
       "      <th></th>\n",
       "      <th>ID</th>\n",
       "      <th>CHECKING_BALANCE</th>\n",
       "      <th>CREDIT_HISTORY</th>\n",
       "      <th>EXISTING_SAVINGS</th>\n",
       "      <th>EXISTING_CREDITS_COUNT</th>\n",
       "      <th>SEX</th>\n",
       "      <th>AGE</th>\n",
       "      <th>JOB_TYPE</th>\n",
       "      <th>DEPENDENTS</th>\n",
       "      <th>TELEPHONE</th>\n",
       "      <th>...</th>\n",
       "      <th>PROPERTY</th>\n",
       "      <th>HOUSING</th>\n",
       "      <th>CURRENT_RESIDENCE_DURATION</th>\n",
       "      <th>PAYMENT_TERM</th>\n",
       "      <th>INSTALLMENT_PLANS</th>\n",
       "      <th>INSTALLMENT_PERCENT</th>\n",
       "      <th>LOAN_PURPOSE</th>\n",
       "      <th>LOAN_AMOUNT</th>\n",
       "      <th>OTHERS_ON_LOAN</th>\n",
       "      <th>ALLOW</th>\n",
       "    </tr>\n",
       "  </thead>\n",
       "  <tbody>\n",
       "    <tr>\n",
       "      <th>0</th>\n",
       "      <td>291655.0</td>\n",
       "      <td>-566.53</td>\n",
       "      <td>ALL_CREDITS_PAID_BACK</td>\n",
       "      <td>36.42</td>\n",
       "      <td>1.0</td>\n",
       "      <td>M</td>\n",
       "      <td>47.0</td>\n",
       "      <td>3.0</td>\n",
       "      <td>1.0</td>\n",
       "      <td>0.0</td>\n",
       "      <td>...</td>\n",
       "      <td>SAVINGS_INSURANCE</td>\n",
       "      <td>OWN</td>\n",
       "      <td>3.0</td>\n",
       "      <td>713.0</td>\n",
       "      <td>STORES</td>\n",
       "      <td>3.0</td>\n",
       "      <td>CAR_USED</td>\n",
       "      <td>3103.0</td>\n",
       "      <td>NONE</td>\n",
       "      <td>1</td>\n",
       "    </tr>\n",
       "    <tr>\n",
       "      <th>1</th>\n",
       "      <td>657079.0</td>\n",
       "      <td>-1673.16</td>\n",
       "      <td>CREDITS_PAID_TO_DATE</td>\n",
       "      <td>22.9</td>\n",
       "      <td>1.0</td>\n",
       "      <td>M</td>\n",
       "      <td>19.0</td>\n",
       "      <td>3.0</td>\n",
       "      <td>1.0</td>\n",
       "      <td>0.0</td>\n",
       "      <td>...</td>\n",
       "      <td>SAVINGS_INSURANCE</td>\n",
       "      <td>RENT</td>\n",
       "      <td>2.0</td>\n",
       "      <td>341.0</td>\n",
       "      <td>STORES</td>\n",
       "      <td>1.0</td>\n",
       "      <td>CAR_NEW</td>\n",
       "      <td>716.0</td>\n",
       "      <td>NONE</td>\n",
       "      <td>1</td>\n",
       "    </tr>\n",
       "    <tr>\n",
       "      <th>2</th>\n",
       "      <td>256050.0</td>\n",
       "      <td>NO_CHECKING</td>\n",
       "      <td>CREDITS_PAID_TO_DATE</td>\n",
       "      <td>450.35</td>\n",
       "      <td>2.0</td>\n",
       "      <td>F</td>\n",
       "      <td>50.0</td>\n",
       "      <td>2.0</td>\n",
       "      <td>1.0</td>\n",
       "      <td>1.0</td>\n",
       "      <td>...</td>\n",
       "      <td>UNKNOWN</td>\n",
       "      <td>OWN</td>\n",
       "      <td>3.0</td>\n",
       "      <td>868.0</td>\n",
       "      <td>NONE</td>\n",
       "      <td>4.0</td>\n",
       "      <td>APPLIANCES</td>\n",
       "      <td>4333.0</td>\n",
       "      <td>NONE</td>\n",
       "      <td>1</td>\n",
       "    </tr>\n",
       "    <tr>\n",
       "      <th>3</th>\n",
       "      <td>1039151.0</td>\n",
       "      <td>-1471.03</td>\n",
       "      <td>PRIOR_PAYMENTS_DELAYED</td>\n",
       "      <td>805.71</td>\n",
       "      <td>2.0</td>\n",
       "      <td>M</td>\n",
       "      <td>35.0</td>\n",
       "      <td>3.0</td>\n",
       "      <td>1.0</td>\n",
       "      <td>0.0</td>\n",
       "      <td>...</td>\n",
       "      <td>REAL_ESTATE</td>\n",
       "      <td>OWN</td>\n",
       "      <td>2.0</td>\n",
       "      <td>310.0</td>\n",
       "      <td>STORES</td>\n",
       "      <td>2.0</td>\n",
       "      <td>FURNITURE</td>\n",
       "      <td>250.0</td>\n",
       "      <td>NONE</td>\n",
       "      <td>1</td>\n",
       "    </tr>\n",
       "    <tr>\n",
       "      <th>4</th>\n",
       "      <td>1002660.0</td>\n",
       "      <td>NO_CHECKING</td>\n",
       "      <td>CREDITS_PAID_TO_DATE</td>\n",
       "      <td>295.03</td>\n",
       "      <td>1.0</td>\n",
       "      <td>M</td>\n",
       "      <td>40.0</td>\n",
       "      <td>1.0</td>\n",
       "      <td>1.0</td>\n",
       "      <td>0.0</td>\n",
       "      <td>...</td>\n",
       "      <td>CAR_OTHER</td>\n",
       "      <td>OWN</td>\n",
       "      <td>4.0</td>\n",
       "      <td>620.0</td>\n",
       "      <td>NONE</td>\n",
       "      <td>2.0</td>\n",
       "      <td>CAR_USED</td>\n",
       "      <td>2454.0</td>\n",
       "      <td>NONE</td>\n",
       "      <td>0</td>\n",
       "    </tr>\n",
       "  </tbody>\n",
       "</table>\n",
       "<p>5 rows × 22 columns</p>\n",
       "</div>\n",
       "      <button class=\"colab-df-convert\" onclick=\"convertToInteractive('df-da19ae85-00e6-4f6e-b252-fb89ade2434a')\"\n",
       "              title=\"Convert this dataframe to an interactive table.\"\n",
       "              style=\"display:none;\">\n",
       "        \n",
       "  <svg xmlns=\"http://www.w3.org/2000/svg\" height=\"24px\"viewBox=\"0 0 24 24\"\n",
       "       width=\"24px\">\n",
       "    <path d=\"M0 0h24v24H0V0z\" fill=\"none\"/>\n",
       "    <path d=\"M18.56 5.44l.94 2.06.94-2.06 2.06-.94-2.06-.94-.94-2.06-.94 2.06-2.06.94zm-11 1L8.5 8.5l.94-2.06 2.06-.94-2.06-.94L8.5 2.5l-.94 2.06-2.06.94zm10 10l.94 2.06.94-2.06 2.06-.94-2.06-.94-.94-2.06-.94 2.06-2.06.94z\"/><path d=\"M17.41 7.96l-1.37-1.37c-.4-.4-.92-.59-1.43-.59-.52 0-1.04.2-1.43.59L10.3 9.45l-7.72 7.72c-.78.78-.78 2.05 0 2.83L4 21.41c.39.39.9.59 1.41.59.51 0 1.02-.2 1.41-.59l7.78-7.78 2.81-2.81c.8-.78.8-2.07 0-2.86zM5.41 20L4 18.59l7.72-7.72 1.47 1.35L5.41 20z\"/>\n",
       "  </svg>\n",
       "      </button>\n",
       "      \n",
       "  <style>\n",
       "    .colab-df-container {\n",
       "      display:flex;\n",
       "      flex-wrap:wrap;\n",
       "      gap: 12px;\n",
       "    }\n",
       "\n",
       "    .colab-df-convert {\n",
       "      background-color: #E8F0FE;\n",
       "      border: none;\n",
       "      border-radius: 50%;\n",
       "      cursor: pointer;\n",
       "      display: none;\n",
       "      fill: #1967D2;\n",
       "      height: 32px;\n",
       "      padding: 0 0 0 0;\n",
       "      width: 32px;\n",
       "    }\n",
       "\n",
       "    .colab-df-convert:hover {\n",
       "      background-color: #E2EBFA;\n",
       "      box-shadow: 0px 1px 2px rgba(60, 64, 67, 0.3), 0px 1px 3px 1px rgba(60, 64, 67, 0.15);\n",
       "      fill: #174EA6;\n",
       "    }\n",
       "\n",
       "    [theme=dark] .colab-df-convert {\n",
       "      background-color: #3B4455;\n",
       "      fill: #D2E3FC;\n",
       "    }\n",
       "\n",
       "    [theme=dark] .colab-df-convert:hover {\n",
       "      background-color: #434B5C;\n",
       "      box-shadow: 0px 1px 3px 1px rgba(0, 0, 0, 0.15);\n",
       "      filter: drop-shadow(0px 1px 2px rgba(0, 0, 0, 0.3));\n",
       "      fill: #FFFFFF;\n",
       "    }\n",
       "  </style>\n",
       "\n",
       "      <script>\n",
       "        const buttonEl =\n",
       "          document.querySelector('#df-da19ae85-00e6-4f6e-b252-fb89ade2434a button.colab-df-convert');\n",
       "        buttonEl.style.display =\n",
       "          google.colab.kernel.accessAllowed ? 'block' : 'none';\n",
       "\n",
       "        async function convertToInteractive(key) {\n",
       "          const element = document.querySelector('#df-da19ae85-00e6-4f6e-b252-fb89ade2434a');\n",
       "          const dataTable =\n",
       "            await google.colab.kernel.invokeFunction('convertToInteractive',\n",
       "                                                     [key], {});\n",
       "          if (!dataTable) return;\n",
       "\n",
       "          const docLinkHtml = 'Like what you see? Visit the ' +\n",
       "            '<a target=\"_blank\" href=https://colab.research.google.com/notebooks/data_table.ipynb>data table notebook</a>'\n",
       "            + ' to learn more about interactive tables.';\n",
       "          element.innerHTML = '';\n",
       "          dataTable['output_type'] = 'display_data';\n",
       "          await google.colab.output.renderOutput(dataTable, element);\n",
       "          const docLink = document.createElement('div');\n",
       "          docLink.innerHTML = docLinkHtml;\n",
       "          element.appendChild(docLink);\n",
       "        }\n",
       "      </script>\n",
       "    </div>\n",
       "  </div>\n",
       "  "
      ],
      "text/plain": [
       "          ID CHECKING_BALANCE          CREDIT_HISTORY EXISTING_SAVINGS  \\\n",
       "0   291655.0          -566.53   ALL_CREDITS_PAID_BACK            36.42   \n",
       "1   657079.0         -1673.16    CREDITS_PAID_TO_DATE             22.9   \n",
       "2   256050.0      NO_CHECKING    CREDITS_PAID_TO_DATE           450.35   \n",
       "3  1039151.0         -1471.03  PRIOR_PAYMENTS_DELAYED           805.71   \n",
       "4  1002660.0      NO_CHECKING    CREDITS_PAID_TO_DATE           295.03   \n",
       "\n",
       "   EXISTING_CREDITS_COUNT SEX   AGE  JOB_TYPE  DEPENDENTS  TELEPHONE  ...  \\\n",
       "0                     1.0   M  47.0       3.0         1.0        0.0  ...   \n",
       "1                     1.0   M  19.0       3.0         1.0        0.0  ...   \n",
       "2                     2.0   F  50.0       2.0         1.0        1.0  ...   \n",
       "3                     2.0   M  35.0       3.0         1.0        0.0  ...   \n",
       "4                     1.0   M  40.0       1.0         1.0        0.0  ...   \n",
       "\n",
       "            PROPERTY  HOUSING CURRENT_RESIDENCE_DURATION PAYMENT_TERM  \\\n",
       "0  SAVINGS_INSURANCE      OWN                        3.0        713.0   \n",
       "1  SAVINGS_INSURANCE     RENT                        2.0        341.0   \n",
       "2            UNKNOWN      OWN                        3.0        868.0   \n",
       "3        REAL_ESTATE      OWN                        2.0        310.0   \n",
       "4          CAR_OTHER      OWN                        4.0        620.0   \n",
       "\n",
       "   INSTALLMENT_PLANS  INSTALLMENT_PERCENT LOAN_PURPOSE  LOAN_AMOUNT  \\\n",
       "0             STORES                  3.0     CAR_USED       3103.0   \n",
       "1             STORES                  1.0      CAR_NEW        716.0   \n",
       "2               NONE                  4.0   APPLIANCES       4333.0   \n",
       "3             STORES                  2.0    FURNITURE        250.0   \n",
       "4               NONE                  2.0     CAR_USED       2454.0   \n",
       "\n",
       "  OTHERS_ON_LOAN  ALLOW  \n",
       "0           NONE      1  \n",
       "1           NONE      1  \n",
       "2           NONE      1  \n",
       "3           NONE      1  \n",
       "4           NONE      0  \n",
       "\n",
       "[5 rows x 22 columns]"
      ]
     },
     "execution_count": 18,
     "metadata": {},
     "output_type": "execute_result"
    }
   ],
   "source": [
    "uniao_tabelas.head()"
   ]
  },
  {
   "cell_type": "code",
   "execution_count": 19,
   "metadata": {
    "colab": {
     "base_uri": "https://localhost:8080/"
    },
    "id": "zUZ8bBTELJe2",
    "outputId": "a581977a-4e18-450d-f214-1e2c44ea60cb"
   },
   "outputs": [
    {
     "data": {
      "text/plain": [
       "ID                            2477\n",
       "CHECKING_BALANCE              2467\n",
       "CREDIT_HISTORY                2462\n",
       "EXISTING_SAVINGS              2467\n",
       "EXISTING_CREDITS_COUNT        2463\n",
       "SEX                           3920\n",
       "AGE                           3918\n",
       "JOB_TYPE                      3910\n",
       "DEPENDENTS                    3915\n",
       "TELEPHONE                     3915\n",
       "FOREIGN_WORKER                3909\n",
       "EMPLOYMENT_DURATION           3923\n",
       "PROPERTY                      3918\n",
       "HOUSING                       3912\n",
       "CURRENT_RESIDENCE_DURATION    3917\n",
       "PAYMENT_TERM                  3975\n",
       "INSTALLMENT_PLANS             3978\n",
       "INSTALLMENT_PERCENT           3974\n",
       "LOAN_PURPOSE                  3979\n",
       "LOAN_AMOUNT                   3981\n",
       "OTHERS_ON_LOAN                3977\n",
       "ALLOW                         3999\n",
       "dtype: int64"
      ]
     },
     "execution_count": 19,
     "metadata": {},
     "output_type": "execute_result"
    }
   ],
   "source": [
    "uniao_tabelas.count()"
   ]
  },
  {
   "cell_type": "markdown",
   "metadata": {
    "id": "H4132U-GLJe5"
   },
   "source": [
    "Podemos observar que, a tabela ACCOUNTS contém menos linhas do que as outras, assim vamos verificar e eliminar algumas linhas das outras tabelas. "
   ]
  },
  {
   "cell_type": "markdown",
   "metadata": {
    "id": "psYTsRLZLJe6"
   },
   "source": [
    "### Tratamento dos dados"
   ]
  },
  {
   "cell_type": "code",
   "execution_count": 20,
   "metadata": {
    "colab": {
     "base_uri": "https://localhost:8080/"
    },
    "id": "VvnxiujYLJe7",
    "outputId": "eeb56d81-7f16-4361-c08a-2f11da33c082"
   },
   "outputs": [
    {
     "name": "stdout",
     "output_type": "stream",
     "text": [
      "<class 'pandas.core.frame.DataFrame'>\n",
      "RangeIndex: 3999 entries, 0 to 3998\n",
      "Data columns (total 22 columns):\n",
      " #   Column                      Non-Null Count  Dtype  \n",
      "---  ------                      --------------  -----  \n",
      " 0   ID                          2477 non-null   float64\n",
      " 1   CHECKING_BALANCE            2467 non-null   object \n",
      " 2   CREDIT_HISTORY              2462 non-null   object \n",
      " 3   EXISTING_SAVINGS            2467 non-null   object \n",
      " 4   EXISTING_CREDITS_COUNT      2463 non-null   float64\n",
      " 5   SEX                         3920 non-null   object \n",
      " 6   AGE                         3918 non-null   float64\n",
      " 7   JOB_TYPE                    3910 non-null   float64\n",
      " 8   DEPENDENTS                  3915 non-null   float64\n",
      " 9   TELEPHONE                   3915 non-null   float64\n",
      " 10  FOREIGN_WORKER              3909 non-null   float64\n",
      " 11  EMPLOYMENT_DURATION         3923 non-null   float64\n",
      " 12  PROPERTY                    3918 non-null   object \n",
      " 13  HOUSING                     3912 non-null   object \n",
      " 14  CURRENT_RESIDENCE_DURATION  3917 non-null   float64\n",
      " 15  PAYMENT_TERM                3975 non-null   float64\n",
      " 16  INSTALLMENT_PLANS           3978 non-null   object \n",
      " 17  INSTALLMENT_PERCENT         3974 non-null   float64\n",
      " 18  LOAN_PURPOSE                3979 non-null   object \n",
      " 19  LOAN_AMOUNT                 3981 non-null   float64\n",
      " 20  OTHERS_ON_LOAN              3977 non-null   object \n",
      " 21  ALLOW                       3999 non-null   int64  \n",
      "dtypes: float64(12), int64(1), object(9)\n",
      "memory usage: 687.5+ KB\n"
     ]
    }
   ],
   "source": [
    "uniao_tabelas.info()"
   ]
  },
  {
   "cell_type": "markdown",
   "metadata": {
    "id": "uLrFCATbLJe9"
   },
   "source": [
    "Podemos observar que existem algumas linhas com dados faltantes e também existe uma tabela com menos linhas que outras. Assim, posso entender que é necessário remover algumas linhas."
   ]
  },
  {
   "cell_type": "code",
   "execution_count": 21,
   "metadata": {
    "id": "ni7Ge0Q5LJfH"
   },
   "outputs": [],
   "source": [
    "# para remover as linhas com dados faltantes, utilizaremos o dropna() metodo\n",
    "uniao_tabelas.dropna(inplace = True)"
   ]
  },
  {
   "cell_type": "code",
   "execution_count": 22,
   "metadata": {
    "colab": {
     "base_uri": "https://localhost:8080/"
    },
    "id": "uvEuBpOlLJfK",
    "outputId": "264e3feb-b94d-4a92-e8e3-ca7c0f4705a8"
   },
   "outputs": [
    {
     "name": "stdout",
     "output_type": "stream",
     "text": [
      "<class 'pandas.core.frame.DataFrame'>\n",
      "Int64Index: 2230 entries, 0 to 2476\n",
      "Data columns (total 22 columns):\n",
      " #   Column                      Non-Null Count  Dtype  \n",
      "---  ------                      --------------  -----  \n",
      " 0   ID                          2230 non-null   float64\n",
      " 1   CHECKING_BALANCE            2230 non-null   object \n",
      " 2   CREDIT_HISTORY              2230 non-null   object \n",
      " 3   EXISTING_SAVINGS            2230 non-null   object \n",
      " 4   EXISTING_CREDITS_COUNT      2230 non-null   float64\n",
      " 5   SEX                         2230 non-null   object \n",
      " 6   AGE                         2230 non-null   float64\n",
      " 7   JOB_TYPE                    2230 non-null   float64\n",
      " 8   DEPENDENTS                  2230 non-null   float64\n",
      " 9   TELEPHONE                   2230 non-null   float64\n",
      " 10  FOREIGN_WORKER              2230 non-null   float64\n",
      " 11  EMPLOYMENT_DURATION         2230 non-null   float64\n",
      " 12  PROPERTY                    2230 non-null   object \n",
      " 13  HOUSING                     2230 non-null   object \n",
      " 14  CURRENT_RESIDENCE_DURATION  2230 non-null   float64\n",
      " 15  PAYMENT_TERM                2230 non-null   float64\n",
      " 16  INSTALLMENT_PLANS           2230 non-null   object \n",
      " 17  INSTALLMENT_PERCENT         2230 non-null   float64\n",
      " 18  LOAN_PURPOSE                2230 non-null   object \n",
      " 19  LOAN_AMOUNT                 2230 non-null   float64\n",
      " 20  OTHERS_ON_LOAN              2230 non-null   object \n",
      " 21  ALLOW                       2230 non-null   int64  \n",
      "dtypes: float64(12), int64(1), object(9)\n",
      "memory usage: 400.7+ KB\n"
     ]
    }
   ],
   "source": [
    "uniao_tabelas.info()"
   ]
  },
  {
   "cell_type": "markdown",
   "metadata": {
    "id": "UHB24QHFLJfM"
   },
   "source": [
    "Podemos observar que, existe uma inconsistência nas linhas 2230 à 2476, vou analisar e verificar o que está errado."
   ]
  },
  {
   "cell_type": "code",
   "execution_count": 23,
   "metadata": {
    "colab": {
     "base_uri": "https://localhost:8080/"
    },
    "id": "GU0-ohjMLJfN",
    "outputId": "39f2897e-d459-4c38-bf7b-46e4717fac35"
   },
   "outputs": [
    {
     "data": {
      "text/plain": [
       "ID                            2230\n",
       "CHECKING_BALANCE              2230\n",
       "CREDIT_HISTORY                2230\n",
       "EXISTING_SAVINGS              2230\n",
       "EXISTING_CREDITS_COUNT        2230\n",
       "SEX                           2230\n",
       "AGE                           2230\n",
       "JOB_TYPE                      2230\n",
       "DEPENDENTS                    2230\n",
       "TELEPHONE                     2230\n",
       "FOREIGN_WORKER                2230\n",
       "EMPLOYMENT_DURATION           2230\n",
       "PROPERTY                      2230\n",
       "HOUSING                       2230\n",
       "CURRENT_RESIDENCE_DURATION    2230\n",
       "PAYMENT_TERM                  2230\n",
       "INSTALLMENT_PLANS             2230\n",
       "INSTALLMENT_PERCENT           2230\n",
       "LOAN_PURPOSE                  2230\n",
       "LOAN_AMOUNT                   2230\n",
       "OTHERS_ON_LOAN                2230\n",
       "ALLOW                         2230\n",
       "dtype: int64"
      ]
     },
     "execution_count": 23,
     "metadata": {},
     "output_type": "execute_result"
    }
   ],
   "source": [
    "uniao_tabelas.count()"
   ]
  },
  {
   "cell_type": "markdown",
   "metadata": {
    "id": "EufLl3-YLJfQ"
   },
   "source": [
    "Como todas as colunas tem a mesma quantidade de linhas, estão está ok. "
   ]
  },
  {
   "cell_type": "code",
   "execution_count": 24,
   "metadata": {
    "colab": {
     "base_uri": "https://localhost:8080/",
     "height": 300
    },
    "id": "Hj9ZULCHLJfS",
    "outputId": "02809e10-b9e5-4a1d-8419-a9360e43e34f"
   },
   "outputs": [
    {
     "data": {
      "text/html": [
       "\n",
       "  <div id=\"df-bc3ea27c-1106-495a-8bcf-40b630da456f\">\n",
       "    <div class=\"colab-df-container\">\n",
       "      <div>\n",
       "<style scoped>\n",
       "    .dataframe tbody tr th:only-of-type {\n",
       "        vertical-align: middle;\n",
       "    }\n",
       "\n",
       "    .dataframe tbody tr th {\n",
       "        vertical-align: top;\n",
       "    }\n",
       "\n",
       "    .dataframe thead th {\n",
       "        text-align: right;\n",
       "    }\n",
       "</style>\n",
       "<table border=\"1\" class=\"dataframe\">\n",
       "  <thead>\n",
       "    <tr style=\"text-align: right;\">\n",
       "      <th></th>\n",
       "      <th>ID</th>\n",
       "      <th>CHECKING_BALANCE</th>\n",
       "      <th>CREDIT_HISTORY</th>\n",
       "      <th>EXISTING_SAVINGS</th>\n",
       "      <th>EXISTING_CREDITS_COUNT</th>\n",
       "      <th>SEX</th>\n",
       "      <th>AGE</th>\n",
       "      <th>JOB_TYPE</th>\n",
       "      <th>DEPENDENTS</th>\n",
       "      <th>TELEPHONE</th>\n",
       "      <th>...</th>\n",
       "      <th>PROPERTY</th>\n",
       "      <th>HOUSING</th>\n",
       "      <th>CURRENT_RESIDENCE_DURATION</th>\n",
       "      <th>PAYMENT_TERM</th>\n",
       "      <th>INSTALLMENT_PLANS</th>\n",
       "      <th>INSTALLMENT_PERCENT</th>\n",
       "      <th>LOAN_PURPOSE</th>\n",
       "      <th>LOAN_AMOUNT</th>\n",
       "      <th>OTHERS_ON_LOAN</th>\n",
       "      <th>ALLOW</th>\n",
       "    </tr>\n",
       "  </thead>\n",
       "  <tbody>\n",
       "    <tr>\n",
       "      <th>0</th>\n",
       "      <td>291655.0</td>\n",
       "      <td>-566.53</td>\n",
       "      <td>ALL_CREDITS_PAID_BACK</td>\n",
       "      <td>36.42</td>\n",
       "      <td>1.0</td>\n",
       "      <td>M</td>\n",
       "      <td>47.0</td>\n",
       "      <td>3.0</td>\n",
       "      <td>1.0</td>\n",
       "      <td>0.0</td>\n",
       "      <td>...</td>\n",
       "      <td>SAVINGS_INSURANCE</td>\n",
       "      <td>OWN</td>\n",
       "      <td>3.0</td>\n",
       "      <td>713.0</td>\n",
       "      <td>STORES</td>\n",
       "      <td>3.0</td>\n",
       "      <td>CAR_USED</td>\n",
       "      <td>3103.0</td>\n",
       "      <td>NONE</td>\n",
       "      <td>1</td>\n",
       "    </tr>\n",
       "    <tr>\n",
       "      <th>1</th>\n",
       "      <td>657079.0</td>\n",
       "      <td>-1673.16</td>\n",
       "      <td>CREDITS_PAID_TO_DATE</td>\n",
       "      <td>22.9</td>\n",
       "      <td>1.0</td>\n",
       "      <td>M</td>\n",
       "      <td>19.0</td>\n",
       "      <td>3.0</td>\n",
       "      <td>1.0</td>\n",
       "      <td>0.0</td>\n",
       "      <td>...</td>\n",
       "      <td>SAVINGS_INSURANCE</td>\n",
       "      <td>RENT</td>\n",
       "      <td>2.0</td>\n",
       "      <td>341.0</td>\n",
       "      <td>STORES</td>\n",
       "      <td>1.0</td>\n",
       "      <td>CAR_NEW</td>\n",
       "      <td>716.0</td>\n",
       "      <td>NONE</td>\n",
       "      <td>1</td>\n",
       "    </tr>\n",
       "    <tr>\n",
       "      <th>2</th>\n",
       "      <td>256050.0</td>\n",
       "      <td>NO_CHECKING</td>\n",
       "      <td>CREDITS_PAID_TO_DATE</td>\n",
       "      <td>450.35</td>\n",
       "      <td>2.0</td>\n",
       "      <td>F</td>\n",
       "      <td>50.0</td>\n",
       "      <td>2.0</td>\n",
       "      <td>1.0</td>\n",
       "      <td>1.0</td>\n",
       "      <td>...</td>\n",
       "      <td>UNKNOWN</td>\n",
       "      <td>OWN</td>\n",
       "      <td>3.0</td>\n",
       "      <td>868.0</td>\n",
       "      <td>NONE</td>\n",
       "      <td>4.0</td>\n",
       "      <td>APPLIANCES</td>\n",
       "      <td>4333.0</td>\n",
       "      <td>NONE</td>\n",
       "      <td>1</td>\n",
       "    </tr>\n",
       "    <tr>\n",
       "      <th>3</th>\n",
       "      <td>1039151.0</td>\n",
       "      <td>-1471.03</td>\n",
       "      <td>PRIOR_PAYMENTS_DELAYED</td>\n",
       "      <td>805.71</td>\n",
       "      <td>2.0</td>\n",
       "      <td>M</td>\n",
       "      <td>35.0</td>\n",
       "      <td>3.0</td>\n",
       "      <td>1.0</td>\n",
       "      <td>0.0</td>\n",
       "      <td>...</td>\n",
       "      <td>REAL_ESTATE</td>\n",
       "      <td>OWN</td>\n",
       "      <td>2.0</td>\n",
       "      <td>310.0</td>\n",
       "      <td>STORES</td>\n",
       "      <td>2.0</td>\n",
       "      <td>FURNITURE</td>\n",
       "      <td>250.0</td>\n",
       "      <td>NONE</td>\n",
       "      <td>1</td>\n",
       "    </tr>\n",
       "    <tr>\n",
       "      <th>4</th>\n",
       "      <td>1002660.0</td>\n",
       "      <td>NO_CHECKING</td>\n",
       "      <td>CREDITS_PAID_TO_DATE</td>\n",
       "      <td>295.03</td>\n",
       "      <td>1.0</td>\n",
       "      <td>M</td>\n",
       "      <td>40.0</td>\n",
       "      <td>1.0</td>\n",
       "      <td>1.0</td>\n",
       "      <td>0.0</td>\n",
       "      <td>...</td>\n",
       "      <td>CAR_OTHER</td>\n",
       "      <td>OWN</td>\n",
       "      <td>4.0</td>\n",
       "      <td>620.0</td>\n",
       "      <td>NONE</td>\n",
       "      <td>2.0</td>\n",
       "      <td>CAR_USED</td>\n",
       "      <td>2454.0</td>\n",
       "      <td>NONE</td>\n",
       "      <td>0</td>\n",
       "    </tr>\n",
       "  </tbody>\n",
       "</table>\n",
       "<p>5 rows × 22 columns</p>\n",
       "</div>\n",
       "      <button class=\"colab-df-convert\" onclick=\"convertToInteractive('df-bc3ea27c-1106-495a-8bcf-40b630da456f')\"\n",
       "              title=\"Convert this dataframe to an interactive table.\"\n",
       "              style=\"display:none;\">\n",
       "        \n",
       "  <svg xmlns=\"http://www.w3.org/2000/svg\" height=\"24px\"viewBox=\"0 0 24 24\"\n",
       "       width=\"24px\">\n",
       "    <path d=\"M0 0h24v24H0V0z\" fill=\"none\"/>\n",
       "    <path d=\"M18.56 5.44l.94 2.06.94-2.06 2.06-.94-2.06-.94-.94-2.06-.94 2.06-2.06.94zm-11 1L8.5 8.5l.94-2.06 2.06-.94-2.06-.94L8.5 2.5l-.94 2.06-2.06.94zm10 10l.94 2.06.94-2.06 2.06-.94-2.06-.94-.94-2.06-.94 2.06-2.06.94z\"/><path d=\"M17.41 7.96l-1.37-1.37c-.4-.4-.92-.59-1.43-.59-.52 0-1.04.2-1.43.59L10.3 9.45l-7.72 7.72c-.78.78-.78 2.05 0 2.83L4 21.41c.39.39.9.59 1.41.59.51 0 1.02-.2 1.41-.59l7.78-7.78 2.81-2.81c.8-.78.8-2.07 0-2.86zM5.41 20L4 18.59l7.72-7.72 1.47 1.35L5.41 20z\"/>\n",
       "  </svg>\n",
       "      </button>\n",
       "      \n",
       "  <style>\n",
       "    .colab-df-container {\n",
       "      display:flex;\n",
       "      flex-wrap:wrap;\n",
       "      gap: 12px;\n",
       "    }\n",
       "\n",
       "    .colab-df-convert {\n",
       "      background-color: #E8F0FE;\n",
       "      border: none;\n",
       "      border-radius: 50%;\n",
       "      cursor: pointer;\n",
       "      display: none;\n",
       "      fill: #1967D2;\n",
       "      height: 32px;\n",
       "      padding: 0 0 0 0;\n",
       "      width: 32px;\n",
       "    }\n",
       "\n",
       "    .colab-df-convert:hover {\n",
       "      background-color: #E2EBFA;\n",
       "      box-shadow: 0px 1px 2px rgba(60, 64, 67, 0.3), 0px 1px 3px 1px rgba(60, 64, 67, 0.15);\n",
       "      fill: #174EA6;\n",
       "    }\n",
       "\n",
       "    [theme=dark] .colab-df-convert {\n",
       "      background-color: #3B4455;\n",
       "      fill: #D2E3FC;\n",
       "    }\n",
       "\n",
       "    [theme=dark] .colab-df-convert:hover {\n",
       "      background-color: #434B5C;\n",
       "      box-shadow: 0px 1px 3px 1px rgba(0, 0, 0, 0.15);\n",
       "      filter: drop-shadow(0px 1px 2px rgba(0, 0, 0, 0.3));\n",
       "      fill: #FFFFFF;\n",
       "    }\n",
       "  </style>\n",
       "\n",
       "      <script>\n",
       "        const buttonEl =\n",
       "          document.querySelector('#df-bc3ea27c-1106-495a-8bcf-40b630da456f button.colab-df-convert');\n",
       "        buttonEl.style.display =\n",
       "          google.colab.kernel.accessAllowed ? 'block' : 'none';\n",
       "\n",
       "        async function convertToInteractive(key) {\n",
       "          const element = document.querySelector('#df-bc3ea27c-1106-495a-8bcf-40b630da456f');\n",
       "          const dataTable =\n",
       "            await google.colab.kernel.invokeFunction('convertToInteractive',\n",
       "                                                     [key], {});\n",
       "          if (!dataTable) return;\n",
       "\n",
       "          const docLinkHtml = 'Like what you see? Visit the ' +\n",
       "            '<a target=\"_blank\" href=https://colab.research.google.com/notebooks/data_table.ipynb>data table notebook</a>'\n",
       "            + ' to learn more about interactive tables.';\n",
       "          element.innerHTML = '';\n",
       "          dataTable['output_type'] = 'display_data';\n",
       "          await google.colab.output.renderOutput(dataTable, element);\n",
       "          const docLink = document.createElement('div');\n",
       "          docLink.innerHTML = docLinkHtml;\n",
       "          element.appendChild(docLink);\n",
       "        }\n",
       "      </script>\n",
       "    </div>\n",
       "  </div>\n",
       "  "
      ],
      "text/plain": [
       "          ID CHECKING_BALANCE          CREDIT_HISTORY EXISTING_SAVINGS  \\\n",
       "0   291655.0          -566.53   ALL_CREDITS_PAID_BACK            36.42   \n",
       "1   657079.0         -1673.16    CREDITS_PAID_TO_DATE             22.9   \n",
       "2   256050.0      NO_CHECKING    CREDITS_PAID_TO_DATE           450.35   \n",
       "3  1039151.0         -1471.03  PRIOR_PAYMENTS_DELAYED           805.71   \n",
       "4  1002660.0      NO_CHECKING    CREDITS_PAID_TO_DATE           295.03   \n",
       "\n",
       "   EXISTING_CREDITS_COUNT SEX   AGE  JOB_TYPE  DEPENDENTS  TELEPHONE  ...  \\\n",
       "0                     1.0   M  47.0       3.0         1.0        0.0  ...   \n",
       "1                     1.0   M  19.0       3.0         1.0        0.0  ...   \n",
       "2                     2.0   F  50.0       2.0         1.0        1.0  ...   \n",
       "3                     2.0   M  35.0       3.0         1.0        0.0  ...   \n",
       "4                     1.0   M  40.0       1.0         1.0        0.0  ...   \n",
       "\n",
       "            PROPERTY  HOUSING CURRENT_RESIDENCE_DURATION PAYMENT_TERM  \\\n",
       "0  SAVINGS_INSURANCE      OWN                        3.0        713.0   \n",
       "1  SAVINGS_INSURANCE     RENT                        2.0        341.0   \n",
       "2            UNKNOWN      OWN                        3.0        868.0   \n",
       "3        REAL_ESTATE      OWN                        2.0        310.0   \n",
       "4          CAR_OTHER      OWN                        4.0        620.0   \n",
       "\n",
       "   INSTALLMENT_PLANS  INSTALLMENT_PERCENT LOAN_PURPOSE  LOAN_AMOUNT  \\\n",
       "0             STORES                  3.0     CAR_USED       3103.0   \n",
       "1             STORES                  1.0      CAR_NEW        716.0   \n",
       "2               NONE                  4.0   APPLIANCES       4333.0   \n",
       "3             STORES                  2.0    FURNITURE        250.0   \n",
       "4               NONE                  2.0     CAR_USED       2454.0   \n",
       "\n",
       "  OTHERS_ON_LOAN  ALLOW  \n",
       "0           NONE      1  \n",
       "1           NONE      1  \n",
       "2           NONE      1  \n",
       "3           NONE      1  \n",
       "4           NONE      0  \n",
       "\n",
       "[5 rows x 22 columns]"
      ]
     },
     "execution_count": 24,
     "metadata": {},
     "output_type": "execute_result"
    }
   ],
   "source": [
    "uniao_tabelas.head()"
   ]
  },
  {
   "cell_type": "markdown",
   "metadata": {
    "id": "BTXEsAOgLJfU"
   },
   "source": [
    "### Analisando as colunas "
   ]
  },
  {
   "cell_type": "code",
   "execution_count": 27,
   "metadata": {
    "colab": {
     "base_uri": "https://localhost:8080/",
     "height": 448
    },
    "id": "z7jmvm86LJfX",
    "outputId": "44b63d5b-4f1c-4370-aad7-6206cce2a100"
   },
   "outputs": [
    {
     "data": {
      "image/png": "[encoded data removed]",
      "text/plain": [
       "<Figure size 1440x720 with 16 Axes>"
      ]
     },
     "metadata": {
      "needs_background": "light"
     },
     "output_type": "display_data"
    }
   ],
   "source": [
    "import matplotlib.pyplot as plt\n",
    "\n",
    "uniao_tabelas.hist(figsize=(20, 10))\n",
    "plt.show()"
   ]
  },
  {
   "cell_type": "markdown",
   "metadata": {
    "id": "HWyhX9Y3LJfZ"
   },
   "source": [
    "Na coluna 'ALLOW' podemos observa que, o total de clientes aprovados foi em torno de 1500 e não aprovados foi de aproximadamente 700 clientes, então há uma propensão maior em um cliente ser aprovado. Podemos observar também que, a maioria dos clientes tem em média 30 à 40 anos. Para a coluna dependentes, podemos observar que há aproximadamente 2000 clientes com 1 dependente e aproximadamente 300 com 2 dependentes."
   ]
  },
  {
   "cell_type": "markdown",
   "metadata": {
    "id": "W4UbGHEfLJfa"
   },
   "source": [
    "#### Sendo assim, posso escolher as melhores colunas para treinar o modelo."
   ]
  },
  {
   "cell_type": "code",
   "execution_count": 25,
   "metadata": {
    "id": "ttNoIkToLJfb"
   },
   "outputs": [],
   "source": [
    "sexo = uniao_tabelas['SEX']\n",
    "contM = 0\n",
    "contF = 0\n",
    "m = []\n",
    "f = []\n",
    "\n",
    "for i in uniao_tabelas.index:\n",
    "    if uniao_tabelas.loc[i, 'SEX'] == 'M':\n",
    "        m.append('M')\n",
    "        contM += 1\n",
    "    if uniao_tabelas.loc[i, 'SEX'] == 'F':\n",
    "        f.append('F')\n",
    "        contF += 1\n"
   ]
  },
  {
   "cell_type": "code",
   "execution_count": 28,
   "metadata": {
    "colab": {
     "base_uri": "https://localhost:8080/",
     "height": 392
    },
    "id": "9oq5QOTVLJfd",
    "outputId": "3d44c98f-b002-443e-821e-5e8875f4cb7b"
   },
   "outputs": [
    {
     "name": "stderr",
     "output_type": "stream",
     "text": [
      "findfont: Font family ['Arial'] not found. Falling back to DejaVu Sans.\n",
      "findfont: Font family ['Arial'] not found. Falling back to DejaVu Sans.\n"
     ]
    },
    {
     "data": {
      "image/png": "[encoded data removed]",
      "text/plain": [
       "<Figure size 720x360 with 1 Axes>"
      ]
     },
     "metadata": {
      "needs_background": "light"
     },
     "output_type": "display_data"
    }
   ],
   "source": [
    "# Quantidade de pessoas com o sexo Masculino e Feminino\n",
    "plt.figure(figsize=(10, 5))\n",
    "font1 = {'family': 'Arial', 'color': 'blue', 'fontsize': 16}\n",
    "font2 = {'family': 'Arial', 'color': 'red', 'fontsize': 15}\n",
    "\n",
    "\n",
    "plt.title('Quantidade de pessoas com sexo Masculino e Feminino', fontdict = font1)\n",
    "plt.xlabel('Sexo', fontdict = font2)\n",
    "plt.ylabel('Quantidade', fontdict = font2)\n",
    "\n",
    "plt.bar(m, contM, color = 'blue')\n",
    "plt.bar(f, contF, color = 'hotpink')\n",
    "plt.show()"
   ]
  },
  {
   "cell_type": "markdown",
   "metadata": {
    "id": "sXGgszThLJff"
   },
   "source": [
    "Podemos observar que existem aproximadamente 1358 pessoas com sexo Masculino e 872 com sexo Feminino. "
   ]
  },
  {
   "cell_type": "code",
   "execution_count": 29,
   "metadata": {
    "colab": {
     "base_uri": "https://localhost:8080/"
    },
    "id": "37gczzNpLJfh",
    "outputId": "481295f0-c30a-4bac-d49d-fcf9928f1849"
   },
   "outputs": [
    {
     "name": "stdout",
     "output_type": "stream",
     "text": [
      "Masculino: 1358, Feminino: 872 \n"
     ]
    }
   ],
   "source": [
    "print('Masculino: {}, Feminino: {} '.format(contM, contF))"
   ]
  },
  {
   "cell_type": "markdown",
   "metadata": {
    "id": "f-Kr7_wILJfm"
   },
   "source": [
    "Sendo assim, a propensão é de maior aprovação para homens, lembrando que isso é só uma estimativa com base nos dados que temos, isso não quer dizer que homens tem mais preferência que as mulheres. Assim,  vamos converter os dados 'M' para 1, e 'F' para 0, já que, o modelo que vai ser utilizado é baseado em dados numéricos."
   ]
  },
  {
   "cell_type": "code",
   "execution_count": 30,
   "metadata": {
    "id": "XWy674fJLJfn"
   },
   "outputs": [],
   "source": [
    "# transformando os dados \n",
    "\n",
    "for i in uniao_tabelas.index:\n",
    "    if uniao_tabelas.loc[i, 'SEX'] == 'M':\n",
    "        uniao_tabelas.loc[i, 'SEX'] = 1\n",
    "    if uniao_tabelas.loc[i, 'SEX'] == 'F':\n",
    "        uniao_tabelas.loc[i, 'SEX'] = 0"
   ]
  },
  {
   "cell_type": "code",
   "execution_count": 31,
   "metadata": {
    "colab": {
     "base_uri": "https://localhost:8080/"
    },
    "id": "LL6vE2jaLJfp",
    "outputId": "796feec6-ca50-4d4c-806f-d30d7e0955f8"
   },
   "outputs": [
    {
     "data": {
      "text/plain": [
       "0    1\n",
       "1    1\n",
       "2    0\n",
       "3    1\n",
       "4    1\n",
       "Name: SEX, dtype: object"
      ]
     },
     "execution_count": 31,
     "metadata": {},
     "output_type": "execute_result"
    }
   ],
   "source": [
    "uniao_tabelas['SEX'].head()"
   ]
  },
  {
   "cell_type": "code",
   "execution_count": null,
   "metadata": {
    "id": "sDDRTIwDLJfr"
   },
   "outputs": [],
   "source": []
  },
  {
   "cell_type": "code",
   "execution_count": 32,
   "metadata": {
    "id": "T_Vw14xTLJfs"
   },
   "outputs": [],
   "source": [
    "# Vamos utilizar essa coluna, pois é importante saber se o cliente tem saldo na conta corrente\n",
    " \n",
    "for i in uniao_tabelas.index:\n",
    "    if uniao_tabelas.loc[i, 'CHECKING_BALANCE'] == 'NO_CHECKING':\n",
    "        uniao_tabelas.loc[i, 'CHECKING_BALANCE'] = 0\n",
    "        "
   ]
  },
  {
   "cell_type": "code",
   "execution_count": 33,
   "metadata": {
    "id": "RBMI9wMILJft"
   },
   "outputs": [],
   "source": [
    "# Vamos utilizar essa coluna, pois é importante saber se o cliente tem saldo na conta poupança\n",
    "\n",
    "for i in uniao_tabelas.index:\n",
    "    if uniao_tabelas.loc[i, 'EXISTING_SAVINGS'] == 'UNKNOWN':\n",
    "        uniao_tabelas.loc[i, 'EXISTING_SAVINGS'] = 0      "
   ]
  },
  {
   "cell_type": "code",
   "execution_count": 34,
   "metadata": {
    "colab": {
     "base_uri": "https://localhost:8080/"
    },
    "id": "XwabG6pLLJhd",
    "outputId": "c5e1bf78-7aca-4043-ef71-2e0ed8eab832"
   },
   "outputs": [
    {
     "data": {
      "text/plain": [
       "0     -566.53\n",
       "1    -1673.16\n",
       "2           0\n",
       "3    -1471.03\n",
       "4           0\n",
       "Name: CHECKING_BALANCE, dtype: object"
      ]
     },
     "execution_count": 34,
     "metadata": {},
     "output_type": "execute_result"
    }
   ],
   "source": [
    "uniao_tabelas['CHECKING_BALANCE'].head()"
   ]
  },
  {
   "cell_type": "code",
   "execution_count": 35,
   "metadata": {
    "colab": {
     "base_uri": "https://localhost:8080/"
    },
    "id": "JQJ3DexZLJhg",
    "outputId": "b5ec79e5-7012-4534-b0b4-53d01a4b1f9f"
   },
   "outputs": [
    {
     "data": {
      "text/plain": [
       "0      36.42\n",
       "1       22.9\n",
       "2     450.35\n",
       "3     805.71\n",
       "4     295.03\n",
       "6     421.96\n",
       "7      22.44\n",
       "8      35.07\n",
       "9      56.22\n",
       "10    383.57\n",
       "12    572.37\n",
       "13     88.92\n",
       "14    315.54\n",
       "15    977.71\n",
       "16     63.52\n",
       "17      62.1\n",
       "18    676.64\n",
       "19      3.11\n",
       "20      0.15\n",
       "21    645.52\n",
       "22    319.42\n",
       "23         0\n",
       "24    303.64\n",
       "25     227.4\n",
       "26         0\n",
       "Name: EXISTING_SAVINGS, dtype: object"
      ]
     },
     "execution_count": 35,
     "metadata": {},
     "output_type": "execute_result"
    }
   ],
   "source": [
    "uniao_tabelas['EXISTING_SAVINGS'].head(25)"
   ]
  },
  {
   "cell_type": "code",
   "execution_count": 36,
   "metadata": {
    "colab": {
     "base_uri": "https://localhost:8080/"
    },
    "id": "jV2CgDWuLJhi",
    "outputId": "50d6a53a-df1f-49a8-8ddf-9fa6896a62fa"
   },
   "outputs": [
    {
     "name": "stdout",
     "output_type": "stream",
     "text": [
      "<class 'pandas.core.frame.DataFrame'>\n",
      "Int64Index: 2230 entries, 0 to 2476\n",
      "Data columns (total 22 columns):\n",
      " #   Column                      Non-Null Count  Dtype  \n",
      "---  ------                      --------------  -----  \n",
      " 0   ID                          2230 non-null   float64\n",
      " 1   CHECKING_BALANCE            2230 non-null   object \n",
      " 2   CREDIT_HISTORY              2230 non-null   object \n",
      " 3   EXISTING_SAVINGS            2230 non-null   object \n",
      " 4   EXISTING_CREDITS_COUNT      2230 non-null   float64\n",
      " 5   SEX                         2230 non-null   object \n",
      " 6   AGE                         2230 non-null   float64\n",
      " 7   JOB_TYPE                    2230 non-null   float64\n",
      " 8   DEPENDENTS                  2230 non-null   float64\n",
      " 9   TELEPHONE                   2230 non-null   float64\n",
      " 10  FOREIGN_WORKER              2230 non-null   float64\n",
      " 11  EMPLOYMENT_DURATION         2230 non-null   float64\n",
      " 12  PROPERTY                    2230 non-null   object \n",
      " 13  HOUSING                     2230 non-null   object \n",
      " 14  CURRENT_RESIDENCE_DURATION  2230 non-null   float64\n",
      " 15  PAYMENT_TERM                2230 non-null   float64\n",
      " 16  INSTALLMENT_PLANS           2230 non-null   object \n",
      " 17  INSTALLMENT_PERCENT         2230 non-null   float64\n",
      " 18  LOAN_PURPOSE                2230 non-null   object \n",
      " 19  LOAN_AMOUNT                 2230 non-null   float64\n",
      " 20  OTHERS_ON_LOAN              2230 non-null   object \n",
      " 21  ALLOW                       2230 non-null   int64  \n",
      "dtypes: float64(12), int64(1), object(9)\n",
      "memory usage: 465.2+ KB\n"
     ]
    }
   ],
   "source": [
    "uniao_tabelas.info()"
   ]
  },
  {
   "cell_type": "markdown",
   "metadata": {
    "id": "r-IaGqIaLJhk"
   },
   "source": [
    "Como essas colunas estão como objetos, é necessário converter para dados numéricos"
   ]
  },
  {
   "cell_type": "code",
   "execution_count": 37,
   "metadata": {
    "id": "snltKhGRLJhl"
   },
   "outputs": [],
   "source": [
    "uniao_tabelas['CHECKING_BALANCE'] = uniao_tabelas['CHECKING_BALANCE'].astype(float)\n",
    "uniao_tabelas['EXISTING_SAVINGS'] = uniao_tabelas['EXISTING_SAVINGS'].astype(float)"
   ]
  },
  {
   "cell_type": "code",
   "execution_count": 38,
   "metadata": {
    "colab": {
     "base_uri": "https://localhost:8080/"
    },
    "id": "lO6glY8KLJhn",
    "outputId": "21d47654-1b17-4f84-eabd-3c8cb1bf451f"
   },
   "outputs": [
    {
     "name": "stdout",
     "output_type": "stream",
     "text": [
      "<class 'pandas.core.frame.DataFrame'>\n",
      "Int64Index: 2230 entries, 0 to 2476\n",
      "Data columns (total 22 columns):\n",
      " #   Column                      Non-Null Count  Dtype  \n",
      "---  ------                      --------------  -----  \n",
      " 0   ID                          2230 non-null   float64\n",
      " 1   CHECKING_BALANCE            2230 non-null   float64\n",
      " 2   CREDIT_HISTORY              2230 non-null   object \n",
      " 3   EXISTING_SAVINGS            2230 non-null   float64\n",
      " 4   EXISTING_CREDITS_COUNT      2230 non-null   float64\n",
      " 5   SEX                         2230 non-null   object \n",
      " 6   AGE                         2230 non-null   float64\n",
      " 7   JOB_TYPE                    2230 non-null   float64\n",
      " 8   DEPENDENTS                  2230 non-null   float64\n",
      " 9   TELEPHONE                   2230 non-null   float64\n",
      " 10  FOREIGN_WORKER              2230 non-null   float64\n",
      " 11  EMPLOYMENT_DURATION         2230 non-null   float64\n",
      " 12  PROPERTY                    2230 non-null   object \n",
      " 13  HOUSING                     2230 non-null   object \n",
      " 14  CURRENT_RESIDENCE_DURATION  2230 non-null   float64\n",
      " 15  PAYMENT_TERM                2230 non-null   float64\n",
      " 16  INSTALLMENT_PLANS           2230 non-null   object \n",
      " 17  INSTALLMENT_PERCENT         2230 non-null   float64\n",
      " 18  LOAN_PURPOSE                2230 non-null   object \n",
      " 19  LOAN_AMOUNT                 2230 non-null   float64\n",
      " 20  OTHERS_ON_LOAN              2230 non-null   object \n",
      " 21  ALLOW                       2230 non-null   int64  \n",
      "dtypes: float64(14), int64(1), object(7)\n",
      "memory usage: 465.2+ KB\n"
     ]
    }
   ],
   "source": [
    "uniao_tabelas.info()"
   ]
  },
  {
   "cell_type": "code",
   "execution_count": null,
   "metadata": {
    "id": "C8T0S9z2LJho"
   },
   "outputs": [],
   "source": [
    "# salvando em uma nova base de dados\n",
    "#uniao_tabelas.to_csv('dados/novaBaseTransformada.csv', index = False, header = True)"
   ]
  },
  {
   "cell_type": "markdown",
   "metadata": {
    "id": "u0UdzNe_LJhv"
   },
   "source": [
    "# Agora posso utilizar a nova base de dados para treinar o modelo "
   ]
  },
  {
   "cell_type": "code",
   "execution_count": 7,
   "metadata": {
    "id": "vr1vwCXzLJhx"
   },
   "outputs": [],
   "source": [
    "novo_df = pd.read_csv('dados/novaBaseTransformada.csv')"
   ]
  },
  {
   "cell_type": "code",
   "execution_count": 8,
   "metadata": {
    "id": "d726ug9PLJhz",
    "outputId": "e3b56bc6-4b9c-4750-e5fe-461ceaef8dff"
   },
   "outputs": [
    {
     "data": {
      "text/html": [
       "<div>\n",
       "<style scoped>\n",
       "    .dataframe tbody tr th:only-of-type {\n",
       "        vertical-align: middle;\n",
       "    }\n",
       "\n",
       "    .dataframe tbody tr th {\n",
       "        vertical-align: top;\n",
       "    }\n",
       "\n",
       "    .dataframe thead th {\n",
       "        text-align: right;\n",
       "    }\n",
       "</style>\n",
       "<table border=\"1\" class=\"dataframe\">\n",
       "  <thead>\n",
       "    <tr style=\"text-align: right;\">\n",
       "      <th></th>\n",
       "      <th>ID</th>\n",
       "      <th>CHECKING_BALANCE</th>\n",
       "      <th>CREDIT_HISTORY</th>\n",
       "      <th>EXISTING_SAVINGS</th>\n",
       "      <th>EXISTING_CREDITS_COUNT</th>\n",
       "      <th>SEX</th>\n",
       "      <th>AGE</th>\n",
       "      <th>JOB_TYPE</th>\n",
       "      <th>DEPENDENTS</th>\n",
       "      <th>TELEPHONE</th>\n",
       "      <th>...</th>\n",
       "      <th>PROPERTY</th>\n",
       "      <th>HOUSING</th>\n",
       "      <th>CURRENT_RESIDENCE_DURATION</th>\n",
       "      <th>PAYMENT_TERM</th>\n",
       "      <th>INSTALLMENT_PLANS</th>\n",
       "      <th>INSTALLMENT_PERCENT</th>\n",
       "      <th>LOAN_PURPOSE</th>\n",
       "      <th>LOAN_AMOUNT</th>\n",
       "      <th>OTHERS_ON_LOAN</th>\n",
       "      <th>ALLOW</th>\n",
       "    </tr>\n",
       "  </thead>\n",
       "  <tbody>\n",
       "    <tr>\n",
       "      <th>0</th>\n",
       "      <td>291655.0</td>\n",
       "      <td>-566.53</td>\n",
       "      <td>ALL_CREDITS_PAID_BACK</td>\n",
       "      <td>36.42</td>\n",
       "      <td>1.0</td>\n",
       "      <td>1</td>\n",
       "      <td>47.0</td>\n",
       "      <td>3.0</td>\n",
       "      <td>1.0</td>\n",
       "      <td>0.0</td>\n",
       "      <td>...</td>\n",
       "      <td>SAVINGS_INSURANCE</td>\n",
       "      <td>OWN</td>\n",
       "      <td>3.0</td>\n",
       "      <td>713.0</td>\n",
       "      <td>STORES</td>\n",
       "      <td>3.0</td>\n",
       "      <td>CAR_USED</td>\n",
       "      <td>3103.0</td>\n",
       "      <td>NONE</td>\n",
       "      <td>1</td>\n",
       "    </tr>\n",
       "    <tr>\n",
       "      <th>1</th>\n",
       "      <td>657079.0</td>\n",
       "      <td>-1673.16</td>\n",
       "      <td>CREDITS_PAID_TO_DATE</td>\n",
       "      <td>22.90</td>\n",
       "      <td>1.0</td>\n",
       "      <td>1</td>\n",
       "      <td>19.0</td>\n",
       "      <td>3.0</td>\n",
       "      <td>1.0</td>\n",
       "      <td>0.0</td>\n",
       "      <td>...</td>\n",
       "      <td>SAVINGS_INSURANCE</td>\n",
       "      <td>RENT</td>\n",
       "      <td>2.0</td>\n",
       "      <td>341.0</td>\n",
       "      <td>STORES</td>\n",
       "      <td>1.0</td>\n",
       "      <td>CAR_NEW</td>\n",
       "      <td>716.0</td>\n",
       "      <td>NONE</td>\n",
       "      <td>1</td>\n",
       "    </tr>\n",
       "    <tr>\n",
       "      <th>2</th>\n",
       "      <td>256050.0</td>\n",
       "      <td>0.00</td>\n",
       "      <td>CREDITS_PAID_TO_DATE</td>\n",
       "      <td>450.35</td>\n",
       "      <td>2.0</td>\n",
       "      <td>0</td>\n",
       "      <td>50.0</td>\n",
       "      <td>2.0</td>\n",
       "      <td>1.0</td>\n",
       "      <td>1.0</td>\n",
       "      <td>...</td>\n",
       "      <td>UNKNOWN</td>\n",
       "      <td>OWN</td>\n",
       "      <td>3.0</td>\n",
       "      <td>868.0</td>\n",
       "      <td>NONE</td>\n",
       "      <td>4.0</td>\n",
       "      <td>APPLIANCES</td>\n",
       "      <td>4333.0</td>\n",
       "      <td>NONE</td>\n",
       "      <td>1</td>\n",
       "    </tr>\n",
       "    <tr>\n",
       "      <th>3</th>\n",
       "      <td>1039151.0</td>\n",
       "      <td>-1471.03</td>\n",
       "      <td>PRIOR_PAYMENTS_DELAYED</td>\n",
       "      <td>805.71</td>\n",
       "      <td>2.0</td>\n",
       "      <td>1</td>\n",
       "      <td>35.0</td>\n",
       "      <td>3.0</td>\n",
       "      <td>1.0</td>\n",
       "      <td>0.0</td>\n",
       "      <td>...</td>\n",
       "      <td>REAL_ESTATE</td>\n",
       "      <td>OWN</td>\n",
       "      <td>2.0</td>\n",
       "      <td>310.0</td>\n",
       "      <td>STORES</td>\n",
       "      <td>2.0</td>\n",
       "      <td>FURNITURE</td>\n",
       "      <td>250.0</td>\n",
       "      <td>NONE</td>\n",
       "      <td>1</td>\n",
       "    </tr>\n",
       "    <tr>\n",
       "      <th>4</th>\n",
       "      <td>1002660.0</td>\n",
       "      <td>0.00</td>\n",
       "      <td>CREDITS_PAID_TO_DATE</td>\n",
       "      <td>295.03</td>\n",
       "      <td>1.0</td>\n",
       "      <td>1</td>\n",
       "      <td>40.0</td>\n",
       "      <td>1.0</td>\n",
       "      <td>1.0</td>\n",
       "      <td>0.0</td>\n",
       "      <td>...</td>\n",
       "      <td>CAR_OTHER</td>\n",
       "      <td>OWN</td>\n",
       "      <td>4.0</td>\n",
       "      <td>620.0</td>\n",
       "      <td>NONE</td>\n",
       "      <td>2.0</td>\n",
       "      <td>CAR_USED</td>\n",
       "      <td>2454.0</td>\n",
       "      <td>NONE</td>\n",
       "      <td>0</td>\n",
       "    </tr>\n",
       "    <tr>\n",
       "      <th>5</th>\n",
       "      <td>1096578.0</td>\n",
       "      <td>0.00</td>\n",
       "      <td>PRIOR_PAYMENTS_DELAYED</td>\n",
       "      <td>421.96</td>\n",
       "      <td>1.0</td>\n",
       "      <td>0</td>\n",
       "      <td>36.0</td>\n",
       "      <td>3.0</td>\n",
       "      <td>2.0</td>\n",
       "      <td>1.0</td>\n",
       "      <td>...</td>\n",
       "      <td>SAVINGS_INSURANCE</td>\n",
       "      <td>OWN</td>\n",
       "      <td>4.0</td>\n",
       "      <td>868.0</td>\n",
       "      <td>NONE</td>\n",
       "      <td>3.0</td>\n",
       "      <td>CAR_USED</td>\n",
       "      <td>4926.0</td>\n",
       "      <td>NONE</td>\n",
       "      <td>0</td>\n",
       "    </tr>\n",
       "    <tr>\n",
       "      <th>6</th>\n",
       "      <td>544178.0</td>\n",
       "      <td>-121.70</td>\n",
       "      <td>CREDITS_PAID_TO_DATE</td>\n",
       "      <td>22.44</td>\n",
       "      <td>1.0</td>\n",
       "      <td>1</td>\n",
       "      <td>52.0</td>\n",
       "      <td>3.0</td>\n",
       "      <td>1.0</td>\n",
       "      <td>0.0</td>\n",
       "      <td>...</td>\n",
       "      <td>CAR_OTHER</td>\n",
       "      <td>OWN</td>\n",
       "      <td>4.0</td>\n",
       "      <td>360.0</td>\n",
       "      <td>BANK</td>\n",
       "      <td>1.0</td>\n",
       "      <td>VACATION</td>\n",
       "      <td>1742.0</td>\n",
       "      <td>NONE</td>\n",
       "      <td>1</td>\n",
       "    </tr>\n",
       "    <tr>\n",
       "      <th>7</th>\n",
       "      <td>356107.0</td>\n",
       "      <td>-124.51</td>\n",
       "      <td>ALL_CREDITS_PAID_BACK</td>\n",
       "      <td>35.07</td>\n",
       "      <td>1.0</td>\n",
       "      <td>1</td>\n",
       "      <td>48.0</td>\n",
       "      <td>3.0</td>\n",
       "      <td>1.0</td>\n",
       "      <td>1.0</td>\n",
       "      <td>...</td>\n",
       "      <td>SAVINGS_INSURANCE</td>\n",
       "      <td>OWN</td>\n",
       "      <td>4.0</td>\n",
       "      <td>651.0</td>\n",
       "      <td>STORES</td>\n",
       "      <td>2.0</td>\n",
       "      <td>CAR_USED</td>\n",
       "      <td>1730.0</td>\n",
       "      <td>NONE</td>\n",
       "      <td>1</td>\n",
       "    </tr>\n",
       "    <tr>\n",
       "      <th>8</th>\n",
       "      <td>72646.0</td>\n",
       "      <td>-1911.77</td>\n",
       "      <td>CREDITS_PAID_TO_DATE</td>\n",
       "      <td>56.22</td>\n",
       "      <td>1.0</td>\n",
       "      <td>1</td>\n",
       "      <td>23.0</td>\n",
       "      <td>2.0</td>\n",
       "      <td>2.0</td>\n",
       "      <td>1.0</td>\n",
       "      <td>...</td>\n",
       "      <td>REAL_ESTATE</td>\n",
       "      <td>OWN</td>\n",
       "      <td>3.0</td>\n",
       "      <td>558.0</td>\n",
       "      <td>NONE</td>\n",
       "      <td>2.0</td>\n",
       "      <td>FURNITURE</td>\n",
       "      <td>1345.0</td>\n",
       "      <td>NONE</td>\n",
       "      <td>0</td>\n",
       "    </tr>\n",
       "    <tr>\n",
       "      <th>9</th>\n",
       "      <td>1136574.0</td>\n",
       "      <td>0.00</td>\n",
       "      <td>PRIOR_PAYMENTS_DELAYED</td>\n",
       "      <td>383.57</td>\n",
       "      <td>1.0</td>\n",
       "      <td>0</td>\n",
       "      <td>42.0</td>\n",
       "      <td>2.0</td>\n",
       "      <td>2.0</td>\n",
       "      <td>1.0</td>\n",
       "      <td>...</td>\n",
       "      <td>CAR_OTHER</td>\n",
       "      <td>FREE</td>\n",
       "      <td>4.0</td>\n",
       "      <td>868.0</td>\n",
       "      <td>NONE</td>\n",
       "      <td>4.0</td>\n",
       "      <td>CAR_USED</td>\n",
       "      <td>3942.0</td>\n",
       "      <td>NONE</td>\n",
       "      <td>1</td>\n",
       "    </tr>\n",
       "  </tbody>\n",
       "</table>\n",
       "<p>10 rows × 22 columns</p>\n",
       "</div>"
      ],
      "text/plain": [
       "          ID  CHECKING_BALANCE          CREDIT_HISTORY  EXISTING_SAVINGS  \\\n",
       "0   291655.0           -566.53   ALL_CREDITS_PAID_BACK             36.42   \n",
       "1   657079.0          -1673.16    CREDITS_PAID_TO_DATE             22.90   \n",
       "2   256050.0              0.00    CREDITS_PAID_TO_DATE            450.35   \n",
       "3  1039151.0          -1471.03  PRIOR_PAYMENTS_DELAYED            805.71   \n",
       "4  1002660.0              0.00    CREDITS_PAID_TO_DATE            295.03   \n",
       "5  1096578.0              0.00  PRIOR_PAYMENTS_DELAYED            421.96   \n",
       "6   544178.0           -121.70    CREDITS_PAID_TO_DATE             22.44   \n",
       "7   356107.0           -124.51   ALL_CREDITS_PAID_BACK             35.07   \n",
       "8    72646.0          -1911.77    CREDITS_PAID_TO_DATE             56.22   \n",
       "9  1136574.0              0.00  PRIOR_PAYMENTS_DELAYED            383.57   \n",
       "\n",
       "   EXISTING_CREDITS_COUNT  SEX   AGE  JOB_TYPE  DEPENDENTS  TELEPHONE  ...  \\\n",
       "0                     1.0    1  47.0       3.0         1.0        0.0  ...   \n",
       "1                     1.0    1  19.0       3.0         1.0        0.0  ...   \n",
       "2                     2.0    0  50.0       2.0         1.0        1.0  ...   \n",
       "3                     2.0    1  35.0       3.0         1.0        0.0  ...   \n",
       "4                     1.0    1  40.0       1.0         1.0        0.0  ...   \n",
       "5                     1.0    0  36.0       3.0         2.0        1.0  ...   \n",
       "6                     1.0    1  52.0       3.0         1.0        0.0  ...   \n",
       "7                     1.0    1  48.0       3.0         1.0        1.0  ...   \n",
       "8                     1.0    1  23.0       2.0         2.0        1.0  ...   \n",
       "9                     1.0    0  42.0       2.0         2.0        1.0  ...   \n",
       "\n",
       "            PROPERTY  HOUSING CURRENT_RESIDENCE_DURATION PAYMENT_TERM  \\\n",
       "0  SAVINGS_INSURANCE      OWN                        3.0        713.0   \n",
       "1  SAVINGS_INSURANCE     RENT                        2.0        341.0   \n",
       "2            UNKNOWN      OWN                        3.0        868.0   \n",
       "3        REAL_ESTATE      OWN                        2.0        310.0   \n",
       "4          CAR_OTHER      OWN                        4.0        620.0   \n",
       "5  SAVINGS_INSURANCE      OWN                        4.0        868.0   \n",
       "6          CAR_OTHER      OWN                        4.0        360.0   \n",
       "7  SAVINGS_INSURANCE      OWN                        4.0        651.0   \n",
       "8        REAL_ESTATE      OWN                        3.0        558.0   \n",
       "9          CAR_OTHER     FREE                        4.0        868.0   \n",
       "\n",
       "   INSTALLMENT_PLANS  INSTALLMENT_PERCENT LOAN_PURPOSE  LOAN_AMOUNT  \\\n",
       "0             STORES                  3.0     CAR_USED       3103.0   \n",
       "1             STORES                  1.0      CAR_NEW        716.0   \n",
       "2               NONE                  4.0   APPLIANCES       4333.0   \n",
       "3             STORES                  2.0    FURNITURE        250.0   \n",
       "4               NONE                  2.0     CAR_USED       2454.0   \n",
       "5               NONE                  3.0     CAR_USED       4926.0   \n",
       "6               BANK                  1.0     VACATION       1742.0   \n",
       "7             STORES                  2.0     CAR_USED       1730.0   \n",
       "8               NONE                  2.0    FURNITURE       1345.0   \n",
       "9               NONE                  4.0     CAR_USED       3942.0   \n",
       "\n",
       "  OTHERS_ON_LOAN  ALLOW  \n",
       "0           NONE      1  \n",
       "1           NONE      1  \n",
       "2           NONE      1  \n",
       "3           NONE      1  \n",
       "4           NONE      0  \n",
       "5           NONE      0  \n",
       "6           NONE      1  \n",
       "7           NONE      1  \n",
       "8           NONE      0  \n",
       "9           NONE      1  \n",
       "\n",
       "[10 rows x 22 columns]"
      ]
     },
     "execution_count": 8,
     "metadata": {},
     "output_type": "execute_result"
    }
   ],
   "source": [
    "novo_df.head(10)"
   ]
  },
  {
   "cell_type": "markdown",
   "metadata": {
    "id": "xlmMfJuXLJh0"
   },
   "source": [
    "## Criação do Modelo com Base em Arvore de Decisão "
   ]
  },
  {
   "cell_type": "code",
   "execution_count": 41,
   "metadata": {
    "id": "5mwBn8P7LJh1"
   },
   "outputs": [],
   "source": [
    "from sklearn.tree import DecisionTreeClassifier\n",
    "from sklearn import tree "
   ]
  },
  {
   "cell_type": "markdown",
   "metadata": {
    "id": "JPNLe8gfLJh2"
   },
   "source": [
    "### Separação dos dados dependentes e dependente "
   ]
  },
  {
   "cell_type": "code",
   "execution_count": 42,
   "metadata": {
    "id": "-yT7rt7mLJh4"
   },
   "outputs": [],
   "source": [
    "X  = novo_df[['CHECKING_BALANCE', 'EXISTING_SAVINGS', 'EXISTING_CREDITS_COUNT', 'SEX', 'AGE', 'JOB_TYPE',\n",
    "             'DEPENDENTS', 'TELEPHONE', 'FOREIGN_WORKER', 'EMPLOYMENT_DURATION', 'CURRENT_RESIDENCE_DURATION', \n",
    "              'PAYMENT_TERM', 'INSTALLMENT_PERCENT', 'LOAN_AMOUNT']]\n",
    "y = novo_df['ALLOW']"
   ]
  },
  {
   "cell_type": "code",
   "execution_count": 43,
   "metadata": {
    "colab": {
     "base_uri": "https://localhost:8080/",
     "height": 270
    },
    "id": "ev2mBQW9LJh5",
    "outputId": "52a82863-d1d7-477c-86e3-8e25ab179ead"
   },
   "outputs": [
    {
     "data": {
      "text/html": [
       "\n",
       "  <div id=\"df-a5d62eda-e9a7-400f-b9d6-6e7c1292ace4\">\n",
       "    <div class=\"colab-df-container\">\n",
       "      <div>\n",
       "<style scoped>\n",
       "    .dataframe tbody tr th:only-of-type {\n",
       "        vertical-align: middle;\n",
       "    }\n",
       "\n",
       "    .dataframe tbody tr th {\n",
       "        vertical-align: top;\n",
       "    }\n",
       "\n",
       "    .dataframe thead th {\n",
       "        text-align: right;\n",
       "    }\n",
       "</style>\n",
       "<table border=\"1\" class=\"dataframe\">\n",
       "  <thead>\n",
       "    <tr style=\"text-align: right;\">\n",
       "      <th></th>\n",
       "      <th>CHECKING_BALANCE</th>\n",
       "      <th>EXISTING_SAVINGS</th>\n",
       "      <th>EXISTING_CREDITS_COUNT</th>\n",
       "      <th>SEX</th>\n",
       "      <th>AGE</th>\n",
       "      <th>JOB_TYPE</th>\n",
       "      <th>DEPENDENTS</th>\n",
       "      <th>TELEPHONE</th>\n",
       "      <th>FOREIGN_WORKER</th>\n",
       "      <th>EMPLOYMENT_DURATION</th>\n",
       "      <th>CURRENT_RESIDENCE_DURATION</th>\n",
       "      <th>PAYMENT_TERM</th>\n",
       "      <th>INSTALLMENT_PERCENT</th>\n",
       "      <th>LOAN_AMOUNT</th>\n",
       "    </tr>\n",
       "  </thead>\n",
       "  <tbody>\n",
       "    <tr>\n",
       "      <th>0</th>\n",
       "      <td>-566.53</td>\n",
       "      <td>36.42</td>\n",
       "      <td>1.0</td>\n",
       "      <td>1</td>\n",
       "      <td>47.0</td>\n",
       "      <td>3.0</td>\n",
       "      <td>1.0</td>\n",
       "      <td>0.0</td>\n",
       "      <td>1.0</td>\n",
       "      <td>14.0</td>\n",
       "      <td>3.0</td>\n",
       "      <td>713.0</td>\n",
       "      <td>3.0</td>\n",
       "      <td>3103.0</td>\n",
       "    </tr>\n",
       "    <tr>\n",
       "      <th>1</th>\n",
       "      <td>-1673.16</td>\n",
       "      <td>22.90</td>\n",
       "      <td>1.0</td>\n",
       "      <td>1</td>\n",
       "      <td>19.0</td>\n",
       "      <td>3.0</td>\n",
       "      <td>1.0</td>\n",
       "      <td>0.0</td>\n",
       "      <td>1.0</td>\n",
       "      <td>0.0</td>\n",
       "      <td>2.0</td>\n",
       "      <td>341.0</td>\n",
       "      <td>1.0</td>\n",
       "      <td>716.0</td>\n",
       "    </tr>\n",
       "    <tr>\n",
       "      <th>2</th>\n",
       "      <td>0.00</td>\n",
       "      <td>450.35</td>\n",
       "      <td>2.0</td>\n",
       "      <td>0</td>\n",
       "      <td>50.0</td>\n",
       "      <td>2.0</td>\n",
       "      <td>1.0</td>\n",
       "      <td>1.0</td>\n",
       "      <td>1.0</td>\n",
       "      <td>7.0</td>\n",
       "      <td>3.0</td>\n",
       "      <td>868.0</td>\n",
       "      <td>4.0</td>\n",
       "      <td>4333.0</td>\n",
       "    </tr>\n",
       "    <tr>\n",
       "      <th>3</th>\n",
       "      <td>-1471.03</td>\n",
       "      <td>805.71</td>\n",
       "      <td>2.0</td>\n",
       "      <td>1</td>\n",
       "      <td>35.0</td>\n",
       "      <td>3.0</td>\n",
       "      <td>1.0</td>\n",
       "      <td>0.0</td>\n",
       "      <td>1.0</td>\n",
       "      <td>0.0</td>\n",
       "      <td>2.0</td>\n",
       "      <td>310.0</td>\n",
       "      <td>2.0</td>\n",
       "      <td>250.0</td>\n",
       "    </tr>\n",
       "    <tr>\n",
       "      <th>4</th>\n",
       "      <td>0.00</td>\n",
       "      <td>295.03</td>\n",
       "      <td>1.0</td>\n",
       "      <td>1</td>\n",
       "      <td>40.0</td>\n",
       "      <td>1.0</td>\n",
       "      <td>1.0</td>\n",
       "      <td>0.0</td>\n",
       "      <td>1.0</td>\n",
       "      <td>9.0</td>\n",
       "      <td>4.0</td>\n",
       "      <td>620.0</td>\n",
       "      <td>2.0</td>\n",
       "      <td>2454.0</td>\n",
       "    </tr>\n",
       "  </tbody>\n",
       "</table>\n",
       "</div>\n",
       "      <button class=\"colab-df-convert\" onclick=\"convertToInteractive('df-a5d62eda-e9a7-400f-b9d6-6e7c1292ace4')\"\n",
       "              title=\"Convert this dataframe to an interactive table.\"\n",
       "              style=\"display:none;\">\n",
       "        \n",
       "  <svg xmlns=\"http://www.w3.org/2000/svg\" height=\"24px\"viewBox=\"0 0 24 24\"\n",
       "       width=\"24px\">\n",
       "    <path d=\"M0 0h24v24H0V0z\" fill=\"none\"/>\n",
       "    <path d=\"M18.56 5.44l.94 2.06.94-2.06 2.06-.94-2.06-.94-.94-2.06-.94 2.06-2.06.94zm-11 1L8.5 8.5l.94-2.06 2.06-.94-2.06-.94L8.5 2.5l-.94 2.06-2.06.94zm10 10l.94 2.06.94-2.06 2.06-.94-2.06-.94-.94-2.06-.94 2.06-2.06.94z\"/><path d=\"M17.41 7.96l-1.37-1.37c-.4-.4-.92-.59-1.43-.59-.52 0-1.04.2-1.43.59L10.3 9.45l-7.72 7.72c-.78.78-.78 2.05 0 2.83L4 21.41c.39.39.9.59 1.41.59.51 0 1.02-.2 1.41-.59l7.78-7.78 2.81-2.81c.8-.78.8-2.07 0-2.86zM5.41 20L4 18.59l7.72-7.72 1.47 1.35L5.41 20z\"/>\n",
       "  </svg>\n",
       "      </button>\n",
       "      \n",
       "  <style>\n",
       "    .colab-df-container {\n",
       "      display:flex;\n",
       "      flex-wrap:wrap;\n",
       "      gap: 12px;\n",
       "    }\n",
       "\n",
       "    .colab-df-convert {\n",
       "      background-color: #E8F0FE;\n",
       "      border: none;\n",
       "      border-radius: 50%;\n",
       "      cursor: pointer;\n",
       "      display: none;\n",
       "      fill: #1967D2;\n",
       "      height: 32px;\n",
       "      padding: 0 0 0 0;\n",
       "      width: 32px;\n",
       "    }\n",
       "\n",
       "    .colab-df-convert:hover {\n",
       "      background-color: #E2EBFA;\n",
       "      box-shadow: 0px 1px 2px rgba(60, 64, 67, 0.3), 0px 1px 3px 1px rgba(60, 64, 67, 0.15);\n",
       "      fill: #174EA6;\n",
       "    }\n",
       "\n",
       "    [theme=dark] .colab-df-convert {\n",
       "      background-color: #3B4455;\n",
       "      fill: #D2E3FC;\n",
       "    }\n",
       "\n",
       "    [theme=dark] .colab-df-convert:hover {\n",
       "      background-color: #434B5C;\n",
       "      box-shadow: 0px 1px 3px 1px rgba(0, 0, 0, 0.15);\n",
       "      filter: drop-shadow(0px 1px 2px rgba(0, 0, 0, 0.3));\n",
       "      fill: #FFFFFF;\n",
       "    }\n",
       "  </style>\n",
       "\n",
       "      <script>\n",
       "        const buttonEl =\n",
       "          document.querySelector('#df-a5d62eda-e9a7-400f-b9d6-6e7c1292ace4 button.colab-df-convert');\n",
       "        buttonEl.style.display =\n",
       "          google.colab.kernel.accessAllowed ? 'block' : 'none';\n",
       "\n",
       "        async function convertToInteractive(key) {\n",
       "          const element = document.querySelector('#df-a5d62eda-e9a7-400f-b9d6-6e7c1292ace4');\n",
       "          const dataTable =\n",
       "            await google.colab.kernel.invokeFunction('convertToInteractive',\n",
       "                                                     [key], {});\n",
       "          if (!dataTable) return;\n",
       "\n",
       "          const docLinkHtml = 'Like what you see? Visit the ' +\n",
       "            '<a target=\"_blank\" href=https://colab.research.google.com/notebooks/data_table.ipynb>data table notebook</a>'\n",
       "            + ' to learn more about interactive tables.';\n",
       "          element.innerHTML = '';\n",
       "          dataTable['output_type'] = 'display_data';\n",
       "          await google.colab.output.renderOutput(dataTable, element);\n",
       "          const docLink = document.createElement('div');\n",
       "          docLink.innerHTML = docLinkHtml;\n",
       "          element.appendChild(docLink);\n",
       "        }\n",
       "      </script>\n",
       "    </div>\n",
       "  </div>\n",
       "  "
      ],
      "text/plain": [
       "   CHECKING_BALANCE  EXISTING_SAVINGS  EXISTING_CREDITS_COUNT  SEX   AGE  \\\n",
       "0           -566.53             36.42                     1.0    1  47.0   \n",
       "1          -1673.16             22.90                     1.0    1  19.0   \n",
       "2              0.00            450.35                     2.0    0  50.0   \n",
       "3          -1471.03            805.71                     2.0    1  35.0   \n",
       "4              0.00            295.03                     1.0    1  40.0   \n",
       "\n",
       "   JOB_TYPE  DEPENDENTS  TELEPHONE  FOREIGN_WORKER  EMPLOYMENT_DURATION  \\\n",
       "0       3.0         1.0        0.0             1.0                 14.0   \n",
       "1       3.0         1.0        0.0             1.0                  0.0   \n",
       "2       2.0         1.0        1.0             1.0                  7.0   \n",
       "3       3.0         1.0        0.0             1.0                  0.0   \n",
       "4       1.0         1.0        0.0             1.0                  9.0   \n",
       "\n",
       "   CURRENT_RESIDENCE_DURATION  PAYMENT_TERM  INSTALLMENT_PERCENT  LOAN_AMOUNT  \n",
       "0                         3.0         713.0                  3.0       3103.0  \n",
       "1                         2.0         341.0                  1.0        716.0  \n",
       "2                         3.0         868.0                  4.0       4333.0  \n",
       "3                         2.0         310.0                  2.0        250.0  \n",
       "4                         4.0         620.0                  2.0       2454.0  "
      ]
     },
     "execution_count": 43,
     "metadata": {},
     "output_type": "execute_result"
    }
   ],
   "source": [
    "X.head()"
   ]
  },
  {
   "cell_type": "code",
   "execution_count": 44,
   "metadata": {
    "colab": {
     "base_uri": "https://localhost:8080/"
    },
    "id": "0o_4cq2kLJh7",
    "outputId": "0a539a57-299f-47e6-e8ae-7fd3f232edc6"
   },
   "outputs": [
    {
     "data": {
      "text/plain": [
       "0    1\n",
       "1    1\n",
       "2    1\n",
       "3    1\n",
       "4    0\n",
       "Name: ALLOW, dtype: int64"
      ]
     },
     "execution_count": 44,
     "metadata": {},
     "output_type": "execute_result"
    }
   ],
   "source": [
    "y.head()"
   ]
  },
  {
   "cell_type": "markdown",
   "metadata": {
    "id": "szDhfi_mLJh-"
   },
   "source": [
    "### Treinando o modelo "
   ]
  },
  {
   "cell_type": "code",
   "execution_count": 45,
   "metadata": {
    "id": "CCPrERm1LJh_"
   },
   "outputs": [],
   "source": [
    "from sklearn.model_selection import train_test_split"
   ]
  },
  {
   "cell_type": "code",
   "execution_count": 55,
   "metadata": {
    "id": "PH6-yvbMLJiA"
   },
   "outputs": [],
   "source": [
    "for i in range(10):\n",
    "    X_treino, X_teste, y_treino, y_teste = train_test_split(X, y, test_size = 0.20)\n",
    "\n",
    "    objTreino = DecisionTreeClassifier()\n",
    "    arvore = objTreino.fit(X_treino, y_treino)"
   ]
  },
  {
   "cell_type": "code",
   "execution_count": 52,
   "metadata": {
    "colab": {
     "base_uri": "https://localhost:8080/"
    },
    "id": "cWtHMu8SLJiB",
    "outputId": "285789ca-42a2-4be6-fd97-ec8f66cf9926"
   },
   "outputs": [
    {
     "data": {
      "text/plain": [
       "((1784, 14), (446, 14), (1784,), (446,))"
      ]
     },
     "execution_count": 52,
     "metadata": {},
     "output_type": "execute_result"
    }
   ],
   "source": [
    "X_treino.shape, X_teste.shape, y_treino.shape, y_teste.shape"
   ]
  },
  {
   "cell_type": "markdown",
   "metadata": {
    "id": "QKW95uKyLJiC"
   },
   "source": [
    "Podemos observar que, ficamos com 1784 linhas para treino e 446 para teste."
   ]
  },
  {
   "cell_type": "markdown",
   "metadata": {
    "id": "8Vem0yMYLJiD"
   },
   "source": [
    "### Testando o modelo"
   ]
  },
  {
   "cell_type": "code",
   "execution_count": 48,
   "metadata": {
    "id": "DYkcO270LJiE"
   },
   "outputs": [],
   "source": [
    "from sklearn.metrics import accuracy_score"
   ]
  },
  {
   "cell_type": "code",
   "execution_count": 56,
   "metadata": {
    "colab": {
     "base_uri": "https://localhost:8080/"
    },
    "id": "tNI27hBpLJiE",
    "outputId": "c7eeeaff-a2e7-4972-b0ee-4999897967aa"
   },
   "outputs": [
    {
     "name": "stdout",
     "output_type": "stream",
     "text": [
      "[1 0 1 1 1 1 1 1 1 0 0 0 1 0 1 0 0 0 1 1 1 1 1 1 1 0 1 1 1 1 1 0 0 1 1 1 0\n",
      " 0 0 1 1 0 1 1 0 0 0 1 0 1 1 1 1 1 1 1 1 1 0 1 1 1 0 0 1 1 1 1 1 0 1 1 1 1\n",
      " 0 1 1 1 0 1 1 0 1 0 1 1 0 0 0 0 1 1 1 0 1 1 0 0 1 1 0 1 0 0 1 1 1 1 1 0 1\n",
      " 1 1 0 0 0 1 1 1 0 0 0 1 0 0 1 0 1 1 1 0 1 1 0 0 1 1 0 1 1 0 1 1 1 1 1 0 1\n",
      " 1 1 0 1 0 0 1 1 1 0 0 1 1 1 1 0 1 1 1 1 0 1 1 0 1 1 1 1 0 0 0 0 0 1 0 0 0\n",
      " 1 1 1 0 1 1 0 0 1 0 0 1 1 1 1 1 1 0 1 1 1 1 0 0 1 0 0 1 1 0 1 1 0 0 1 1 1\n",
      " 1 1 0 0 1 0 0 1 0 0 1 1 0 1 1 1 0 0 1 1 0 1 1 1 1 0 1 1 1 0 1 0 0 1 0 1 1\n",
      " 0 0 1 0 0 1 1 0 0 0 1 0 0 1 1 0 1 1 1 1 1 1 1 0 1 1 0 1 1 1 0 1 0 1 1 0 1\n",
      " 1 1 1 1 1 0 0 0 0 0 1 1 1 1 1 0 1 1 1 1 0 1 0 1 1 0 0 1 0 0 1 1 1 1 1 0 0\n",
      " 1 1 1 1 0 1 1 1 1 1 1 1 1 0 1 1 1 1 1 1 1 0 1 1 1 1 1 1 1 1 0 1 1 1 1 1 1\n",
      " 1 0 1 1 0 0 1 0 1 1 1 1 1 0 1 0 0 1 0 1 1 1 0 1 0 1 1 1 1 1 1 1 0 1 0 1 1\n",
      " 1 0 1 0 0 1 0 1 0 0 1 0 1 1 1 1 1 1 0 1 0 0 1 0 1 1 1 1 1 1 0 0 1 1 1 1 0\n",
      " 0 1]\n"
     ]
    }
   ],
   "source": [
    "# prevendo novos valores com base nos dados de treino\n",
    "predicoes = objTreino.predict(X_teste)\n",
    "print(predicoes)"
   ]
  },
  {
   "cell_type": "code",
   "execution_count": 57,
   "metadata": {
    "colab": {
     "base_uri": "https://localhost:8080/"
    },
    "id": "y_ZbeY2-LJiG",
    "outputId": "c2e2402c-03e6-4e12-d941-fc9b16dda3f8"
   },
   "outputs": [
    {
     "name": "stdout",
     "output_type": "stream",
     "text": [
      "Acurácia do modelo:  0.6748878923766816\n"
     ]
    }
   ],
   "source": [
    "# testando com base nos dados de treino\n",
    "acuracia = accuracy_score(y_teste, predicoes)\n",
    "\n",
    "print('Acurácia do modelo: ',acuracia)"
   ]
  },
  {
   "cell_type": "code",
   "execution_count": 58,
   "metadata": {
    "id": "Bm-Z2MmZLJiH"
   },
   "outputs": [],
   "source": [
    "from sklearn.metrics import mean_squared_error\n",
    "import numpy as np\n",
    "eqm = mean_squared_error(y_teste, predicoes)"
   ]
  },
  {
   "cell_type": "code",
   "execution_count": 59,
   "metadata": {
    "colab": {
     "base_uri": "https://localhost:8080/"
    },
    "id": "fg0QMkGYLJiL",
    "outputId": "640b1915-ef78-4ee3-bf5b-2f3d4258691d"
   },
   "outputs": [
    {
     "name": "stdout",
     "output_type": "stream",
     "text": [
      "Erro quadrático médio:  0.33\n"
     ]
    }
   ],
   "source": [
    "print('Erro quadrático médio: ',np.around(eqm, 2))"
   ]
  },
  {
   "cell_type": "markdown",
   "metadata": {
    "id": "DAxQUwZ_LJiO"
   },
   "source": [
    "### Visualização da arvore de decisão"
   ]
  },
  {
   "cell_type": "code",
   "execution_count": 61,
   "metadata": {
    "colab": {
     "base_uri": "https://localhost:8080/",
     "height": 440
    },
    "id": "EZJd2t8iNZDU",
    "outputId": "c72b746c-c70e-4113-e51f-e8ad6a2dad5b"
   },
   "outputs": [
    {
     "data": {
      "image/png": "[encoded data removed]",
      "text/plain": [
       "<Figure size 1440x720 with 1 Axes>"
      ]
     },
     "metadata": {
      "needs_background": "light"
     },
     "output_type": "display_data"
    }
   ],
   "source": [
    "plt.figure(figsize=(20, 10)) #tamanho da figura\n",
    "tree.plot_tree(arvore, feature_names = X_treino.columns, node_ids = True) # Plotando com o método plot_tree\n",
    "plt.show()"
   ]
  },
  {
   "cell_type": "code",
   "execution_count": 63,
   "metadata": {
    "colab": {
     "base_uri": "https://localhost:8080/"
    },
    "id": "qCzGvgcsOMz3",
    "outputId": "12f09c75-816b-4f97-ad6f-266c099cdcab"
   },
   "outputs": [
    {
     "data": {
      "text/plain": [
       "True"
      ]
     },
     "execution_count": 63,
     "metadata": {},
     "output_type": "execute_result"
    }
   ],
   "source": [
    "# Salvando a imagem da arvore\n",
    "import pydotplus\n",
    "data = tree.export_graphviz(arvore, out_file = None, feature_names = X_treino.columns)\n",
    "graph = pydotplus.graph_from_dot_data(data)\n",
    "graph.write_png('arvore.png')"
   ]
  },
  {
   "cell_type": "markdown",
   "metadata": {
    "id": "8voFAnB8LJiP"
   },
   "source": [
    "# Conclusão\n",
    "Com isso, podemos observar que é possível prever novos valores a partir de dados anteriores, com o modelo de classificação de arvore de decisão foi possível fazer algumas predições. No entanto, o modelo não é 100% eficaz e nunca podemos está 100% seguros de que as respostas vão ser 100% certas."
   ]
  },
  {
   "cell_type": "code",
   "execution_count": null,
   "metadata": {
    "id": "4e4WSuQ9LJiP"
   },
   "outputs": [],
   "source": []
  }
 ],
 "metadata": {
  "colab": {
   "collapsed_sections": [],
   "name": "desafioMaratonaBehind_theCode 2021_Bantotal_GIT.ipynb",
   "provenance": []
  },
  "kernelspec": {
   "display_name": "Python 3",
   "language": "python",
   "name": "python3"
  },
  "language_info": {
   "codemirror_mode": {
    "name": "ipython",
    "version": 3
   },
   "file_extension": ".py",
   "mimetype": "text/x-python",
   "name": "python",
   "nbconvert_exporter": "python",
   "pygments_lexer": "ipython3",
   "version": "3.7.3"
  }
 },
 "nbformat": 4,
 "nbformat_minor": 1
}
